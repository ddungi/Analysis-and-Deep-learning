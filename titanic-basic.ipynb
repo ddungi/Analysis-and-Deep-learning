{
 "cells": [
  {
   "cell_type": "code",
   "execution_count": 1,
   "id": "db2ac2e4",
   "metadata": {
    "execution": {
     "iopub.execute_input": "2021-07-28T08:13:14.571017Z",
     "iopub.status.busy": "2021-07-28T08:13:14.568407Z",
     "iopub.status.idle": "2021-07-28T08:13:16.164701Z",
     "shell.execute_reply": "2021-07-28T08:13:16.164018Z"
    },
    "id": "AVgk5Qymod7B",
    "papermill": {
     "duration": 1.63089,
     "end_time": "2021-07-28T08:13:16.164883",
     "exception": false,
     "start_time": "2021-07-28T08:13:14.533993",
     "status": "completed"
    },
    "tags": []
   },
   "outputs": [],
   "source": [
    "import pandas as pd  #판다스\n",
    "from sklearn.linear_model import LogisticRegression #로지스틱 회귀 모델\n",
    "from sklearn.tree import DecisionTreeClassifier #의사결정 나무 모델\n"
   ]
  },
  {
   "cell_type": "code",
   "execution_count": 2,
   "id": "c12a03d4",
   "metadata": {
    "execution": {
     "iopub.execute_input": "2021-07-28T08:13:16.223048Z",
     "iopub.status.busy": "2021-07-28T08:13:16.222215Z",
     "iopub.status.idle": "2021-07-28T08:13:16.256728Z",
     "shell.execute_reply": "2021-07-28T08:13:16.256132Z"
    },
    "id": "32TPimE3p-vK",
    "papermill": {
     "duration": 0.064915,
     "end_time": "2021-07-28T08:13:16.256867",
     "exception": false,
     "start_time": "2021-07-28T08:13:16.191952",
     "status": "completed"
    },
    "tags": []
   },
   "outputs": [],
   "source": [
    "#데이터 불러오기\n",
    "\n",
    "\n",
    "train=pd.read_csv('../input/titanic/train.csv') #모델 학습\n",
    "test=pd.read_csv('../input/titanic/test.csv') #모델 시험지\n",
    "submission=pd.read_csv('../input/titanic/gender_submission.csv') #답안지"
   ]
  },
  {
   "cell_type": "code",
   "execution_count": 3,
   "id": "517e0d62",
   "metadata": {
    "execution": {
     "iopub.execute_input": "2021-07-28T08:13:16.319647Z",
     "iopub.status.busy": "2021-07-28T08:13:16.317933Z",
     "iopub.status.idle": "2021-07-28T08:13:16.346295Z",
     "shell.execute_reply": "2021-07-28T08:13:16.346799Z"
    },
    "id": "IFDrfxOFqM5_",
    "outputId": "004e6e42-b51d-4dce-8bf8-82cca32010c3",
    "papermill": {
     "duration": 0.064572,
     "end_time": "2021-07-28T08:13:16.346966",
     "exception": false,
     "start_time": "2021-07-28T08:13:16.282394",
     "status": "completed"
    },
    "tags": []
   },
   "outputs": [
    {
     "data": {
      "text/html": [
       "<div>\n",
       "<style scoped>\n",
       "    .dataframe tbody tr th:only-of-type {\n",
       "        vertical-align: middle;\n",
       "    }\n",
       "\n",
       "    .dataframe tbody tr th {\n",
       "        vertical-align: top;\n",
       "    }\n",
       "\n",
       "    .dataframe thead th {\n",
       "        text-align: right;\n",
       "    }\n",
       "</style>\n",
       "<table border=\"1\" class=\"dataframe\">\n",
       "  <thead>\n",
       "    <tr style=\"text-align: right;\">\n",
       "      <th></th>\n",
       "      <th>PassengerId</th>\n",
       "      <th>Survived</th>\n",
       "      <th>Pclass</th>\n",
       "      <th>Name</th>\n",
       "      <th>Sex</th>\n",
       "      <th>Age</th>\n",
       "      <th>SibSp</th>\n",
       "      <th>Parch</th>\n",
       "      <th>Ticket</th>\n",
       "      <th>Fare</th>\n",
       "      <th>Cabin</th>\n",
       "      <th>Embarked</th>\n",
       "    </tr>\n",
       "  </thead>\n",
       "  <tbody>\n",
       "    <tr>\n",
       "      <th>0</th>\n",
       "      <td>1</td>\n",
       "      <td>0</td>\n",
       "      <td>3</td>\n",
       "      <td>Braund, Mr. Owen Harris</td>\n",
       "      <td>male</td>\n",
       "      <td>22.0</td>\n",
       "      <td>1</td>\n",
       "      <td>0</td>\n",
       "      <td>A/5 21171</td>\n",
       "      <td>7.2500</td>\n",
       "      <td>NaN</td>\n",
       "      <td>S</td>\n",
       "    </tr>\n",
       "    <tr>\n",
       "      <th>1</th>\n",
       "      <td>2</td>\n",
       "      <td>1</td>\n",
       "      <td>1</td>\n",
       "      <td>Cumings, Mrs. John Bradley (Florence Briggs Th...</td>\n",
       "      <td>female</td>\n",
       "      <td>38.0</td>\n",
       "      <td>1</td>\n",
       "      <td>0</td>\n",
       "      <td>PC 17599</td>\n",
       "      <td>71.2833</td>\n",
       "      <td>C85</td>\n",
       "      <td>C</td>\n",
       "    </tr>\n",
       "    <tr>\n",
       "      <th>2</th>\n",
       "      <td>3</td>\n",
       "      <td>1</td>\n",
       "      <td>3</td>\n",
       "      <td>Heikkinen, Miss. Laina</td>\n",
       "      <td>female</td>\n",
       "      <td>26.0</td>\n",
       "      <td>0</td>\n",
       "      <td>0</td>\n",
       "      <td>STON/O2. 3101282</td>\n",
       "      <td>7.9250</td>\n",
       "      <td>NaN</td>\n",
       "      <td>S</td>\n",
       "    </tr>\n",
       "    <tr>\n",
       "      <th>3</th>\n",
       "      <td>4</td>\n",
       "      <td>1</td>\n",
       "      <td>1</td>\n",
       "      <td>Futrelle, Mrs. Jacques Heath (Lily May Peel)</td>\n",
       "      <td>female</td>\n",
       "      <td>35.0</td>\n",
       "      <td>1</td>\n",
       "      <td>0</td>\n",
       "      <td>113803</td>\n",
       "      <td>53.1000</td>\n",
       "      <td>C123</td>\n",
       "      <td>S</td>\n",
       "    </tr>\n",
       "    <tr>\n",
       "      <th>4</th>\n",
       "      <td>5</td>\n",
       "      <td>0</td>\n",
       "      <td>3</td>\n",
       "      <td>Allen, Mr. William Henry</td>\n",
       "      <td>male</td>\n",
       "      <td>35.0</td>\n",
       "      <td>0</td>\n",
       "      <td>0</td>\n",
       "      <td>373450</td>\n",
       "      <td>8.0500</td>\n",
       "      <td>NaN</td>\n",
       "      <td>S</td>\n",
       "    </tr>\n",
       "  </tbody>\n",
       "</table>\n",
       "</div>"
      ],
      "text/plain": [
       "   PassengerId  Survived  Pclass  \\\n",
       "0            1         0       3   \n",
       "1            2         1       1   \n",
       "2            3         1       3   \n",
       "3            4         1       1   \n",
       "4            5         0       3   \n",
       "\n",
       "                                                Name     Sex   Age  SibSp  \\\n",
       "0                            Braund, Mr. Owen Harris    male  22.0      1   \n",
       "1  Cumings, Mrs. John Bradley (Florence Briggs Th...  female  38.0      1   \n",
       "2                             Heikkinen, Miss. Laina  female  26.0      0   \n",
       "3       Futrelle, Mrs. Jacques Heath (Lily May Peel)  female  35.0      1   \n",
       "4                           Allen, Mr. William Henry    male  35.0      0   \n",
       "\n",
       "   Parch            Ticket     Fare Cabin Embarked  \n",
       "0      0         A/5 21171   7.2500   NaN        S  \n",
       "1      0          PC 17599  71.2833   C85        C  \n",
       "2      0  STON/O2. 3101282   7.9250   NaN        S  \n",
       "3      0            113803  53.1000  C123        S  \n",
       "4      0            373450   8.0500   NaN        S  "
      ]
     },
     "execution_count": 3,
     "metadata": {},
     "output_type": "execute_result"
    }
   ],
   "source": [
    "#EDA\n",
    "train.head()\n"
   ]
  },
  {
   "cell_type": "code",
   "execution_count": 4,
   "id": "d2a08ddb",
   "metadata": {
    "execution": {
     "iopub.execute_input": "2021-07-28T08:13:16.416886Z",
     "iopub.status.busy": "2021-07-28T08:13:16.415890Z",
     "iopub.status.idle": "2021-07-28T08:13:16.420297Z",
     "shell.execute_reply": "2021-07-28T08:13:16.419674Z"
    },
    "id": "Gf8zQvP6uiUp",
    "outputId": "75d21fac-a365-405d-d408-a3c8c21590ba",
    "papermill": {
     "duration": 0.046971,
     "end_time": "2021-07-28T08:13:16.420434",
     "exception": false,
     "start_time": "2021-07-28T08:13:16.373463",
     "status": "completed"
    },
    "tags": []
   },
   "outputs": [
    {
     "data": {
      "text/html": [
       "<div>\n",
       "<style scoped>\n",
       "    .dataframe tbody tr th:only-of-type {\n",
       "        vertical-align: middle;\n",
       "    }\n",
       "\n",
       "    .dataframe tbody tr th {\n",
       "        vertical-align: top;\n",
       "    }\n",
       "\n",
       "    .dataframe thead th {\n",
       "        text-align: right;\n",
       "    }\n",
       "</style>\n",
       "<table border=\"1\" class=\"dataframe\">\n",
       "  <thead>\n",
       "    <tr style=\"text-align: right;\">\n",
       "      <th></th>\n",
       "      <th>PassengerId</th>\n",
       "      <th>Pclass</th>\n",
       "      <th>Name</th>\n",
       "      <th>Sex</th>\n",
       "      <th>Age</th>\n",
       "      <th>SibSp</th>\n",
       "      <th>Parch</th>\n",
       "      <th>Ticket</th>\n",
       "      <th>Fare</th>\n",
       "      <th>Cabin</th>\n",
       "      <th>Embarked</th>\n",
       "    </tr>\n",
       "  </thead>\n",
       "  <tbody>\n",
       "    <tr>\n",
       "      <th>0</th>\n",
       "      <td>892</td>\n",
       "      <td>3</td>\n",
       "      <td>Kelly, Mr. James</td>\n",
       "      <td>male</td>\n",
       "      <td>34.5</td>\n",
       "      <td>0</td>\n",
       "      <td>0</td>\n",
       "      <td>330911</td>\n",
       "      <td>7.8292</td>\n",
       "      <td>NaN</td>\n",
       "      <td>Q</td>\n",
       "    </tr>\n",
       "    <tr>\n",
       "      <th>1</th>\n",
       "      <td>893</td>\n",
       "      <td>3</td>\n",
       "      <td>Wilkes, Mrs. James (Ellen Needs)</td>\n",
       "      <td>female</td>\n",
       "      <td>47.0</td>\n",
       "      <td>1</td>\n",
       "      <td>0</td>\n",
       "      <td>363272</td>\n",
       "      <td>7.0000</td>\n",
       "      <td>NaN</td>\n",
       "      <td>S</td>\n",
       "    </tr>\n",
       "    <tr>\n",
       "      <th>2</th>\n",
       "      <td>894</td>\n",
       "      <td>2</td>\n",
       "      <td>Myles, Mr. Thomas Francis</td>\n",
       "      <td>male</td>\n",
       "      <td>62.0</td>\n",
       "      <td>0</td>\n",
       "      <td>0</td>\n",
       "      <td>240276</td>\n",
       "      <td>9.6875</td>\n",
       "      <td>NaN</td>\n",
       "      <td>Q</td>\n",
       "    </tr>\n",
       "    <tr>\n",
       "      <th>3</th>\n",
       "      <td>895</td>\n",
       "      <td>3</td>\n",
       "      <td>Wirz, Mr. Albert</td>\n",
       "      <td>male</td>\n",
       "      <td>27.0</td>\n",
       "      <td>0</td>\n",
       "      <td>0</td>\n",
       "      <td>315154</td>\n",
       "      <td>8.6625</td>\n",
       "      <td>NaN</td>\n",
       "      <td>S</td>\n",
       "    </tr>\n",
       "    <tr>\n",
       "      <th>4</th>\n",
       "      <td>896</td>\n",
       "      <td>3</td>\n",
       "      <td>Hirvonen, Mrs. Alexander (Helga E Lindqvist)</td>\n",
       "      <td>female</td>\n",
       "      <td>22.0</td>\n",
       "      <td>1</td>\n",
       "      <td>1</td>\n",
       "      <td>3101298</td>\n",
       "      <td>12.2875</td>\n",
       "      <td>NaN</td>\n",
       "      <td>S</td>\n",
       "    </tr>\n",
       "  </tbody>\n",
       "</table>\n",
       "</div>"
      ],
      "text/plain": [
       "   PassengerId  Pclass                                          Name     Sex  \\\n",
       "0          892       3                              Kelly, Mr. James    male   \n",
       "1          893       3              Wilkes, Mrs. James (Ellen Needs)  female   \n",
       "2          894       2                     Myles, Mr. Thomas Francis    male   \n",
       "3          895       3                              Wirz, Mr. Albert    male   \n",
       "4          896       3  Hirvonen, Mrs. Alexander (Helga E Lindqvist)  female   \n",
       "\n",
       "    Age  SibSp  Parch   Ticket     Fare Cabin Embarked  \n",
       "0  34.5      0      0   330911   7.8292   NaN        Q  \n",
       "1  47.0      1      0   363272   7.0000   NaN        S  \n",
       "2  62.0      0      0   240276   9.6875   NaN        Q  \n",
       "3  27.0      0      0   315154   8.6625   NaN        S  \n",
       "4  22.0      1      1  3101298  12.2875   NaN        S  "
      ]
     },
     "execution_count": 4,
     "metadata": {},
     "output_type": "execute_result"
    }
   ],
   "source": [
    "test.head()"
   ]
  },
  {
   "cell_type": "code",
   "execution_count": 5,
   "id": "76df1896",
   "metadata": {
    "execution": {
     "iopub.execute_input": "2021-07-28T08:13:16.477806Z",
     "iopub.status.busy": "2021-07-28T08:13:16.476838Z",
     "iopub.status.idle": "2021-07-28T08:13:16.486072Z",
     "shell.execute_reply": "2021-07-28T08:13:16.486608Z"
    },
    "id": "LRYfkbI_vAqJ",
    "outputId": "d41e6b89-5ccc-4e18-8594-e1e7202a7772",
    "papermill": {
     "duration": 0.039602,
     "end_time": "2021-07-28T08:13:16.486784",
     "exception": false,
     "start_time": "2021-07-28T08:13:16.447182",
     "status": "completed"
    },
    "tags": []
   },
   "outputs": [
    {
     "data": {
      "text/html": [
       "<div>\n",
       "<style scoped>\n",
       "    .dataframe tbody tr th:only-of-type {\n",
       "        vertical-align: middle;\n",
       "    }\n",
       "\n",
       "    .dataframe tbody tr th {\n",
       "        vertical-align: top;\n",
       "    }\n",
       "\n",
       "    .dataframe thead th {\n",
       "        text-align: right;\n",
       "    }\n",
       "</style>\n",
       "<table border=\"1\" class=\"dataframe\">\n",
       "  <thead>\n",
       "    <tr style=\"text-align: right;\">\n",
       "      <th></th>\n",
       "      <th>PassengerId</th>\n",
       "      <th>Survived</th>\n",
       "    </tr>\n",
       "  </thead>\n",
       "  <tbody>\n",
       "    <tr>\n",
       "      <th>0</th>\n",
       "      <td>892</td>\n",
       "      <td>0</td>\n",
       "    </tr>\n",
       "    <tr>\n",
       "      <th>1</th>\n",
       "      <td>893</td>\n",
       "      <td>1</td>\n",
       "    </tr>\n",
       "    <tr>\n",
       "      <th>2</th>\n",
       "      <td>894</td>\n",
       "      <td>0</td>\n",
       "    </tr>\n",
       "    <tr>\n",
       "      <th>3</th>\n",
       "      <td>895</td>\n",
       "      <td>0</td>\n",
       "    </tr>\n",
       "    <tr>\n",
       "      <th>4</th>\n",
       "      <td>896</td>\n",
       "      <td>1</td>\n",
       "    </tr>\n",
       "  </tbody>\n",
       "</table>\n",
       "</div>"
      ],
      "text/plain": [
       "   PassengerId  Survived\n",
       "0          892         0\n",
       "1          893         1\n",
       "2          894         0\n",
       "3          895         0\n",
       "4          896         1"
      ]
     },
     "execution_count": 5,
     "metadata": {},
     "output_type": "execute_result"
    }
   ],
   "source": [
    "submission.head()  #여성 1 남성0"
   ]
  },
  {
   "cell_type": "code",
   "execution_count": 6,
   "id": "eb254482",
   "metadata": {
    "execution": {
     "iopub.execute_input": "2021-07-28T08:13:16.545061Z",
     "iopub.status.busy": "2021-07-28T08:13:16.544115Z",
     "iopub.status.idle": "2021-07-28T08:13:16.560679Z",
     "shell.execute_reply": "2021-07-28T08:13:16.561207Z"
    },
    "id": "tG6fsAZ-vQbp",
    "outputId": "fcc9a294-1127-4612-9141-8dbb4f2ba720",
    "papermill": {
     "duration": 0.047419,
     "end_time": "2021-07-28T08:13:16.561376",
     "exception": false,
     "start_time": "2021-07-28T08:13:16.513957",
     "status": "completed"
    },
    "tags": []
   },
   "outputs": [
    {
     "data": {
      "text/html": [
       "<div>\n",
       "<style scoped>\n",
       "    .dataframe tbody tr th:only-of-type {\n",
       "        vertical-align: middle;\n",
       "    }\n",
       "\n",
       "    .dataframe tbody tr th {\n",
       "        vertical-align: top;\n",
       "    }\n",
       "\n",
       "    .dataframe thead th {\n",
       "        text-align: right;\n",
       "    }\n",
       "</style>\n",
       "<table border=\"1\" class=\"dataframe\">\n",
       "  <thead>\n",
       "    <tr style=\"text-align: right;\">\n",
       "      <th></th>\n",
       "      <th>PassengerId</th>\n",
       "      <th>Survived</th>\n",
       "      <th>Pclass</th>\n",
       "      <th>Name</th>\n",
       "      <th>Sex</th>\n",
       "      <th>Age</th>\n",
       "      <th>SibSp</th>\n",
       "      <th>Parch</th>\n",
       "      <th>Ticket</th>\n",
       "      <th>Fare</th>\n",
       "      <th>Cabin</th>\n",
       "      <th>Embarked</th>\n",
       "    </tr>\n",
       "  </thead>\n",
       "  <tbody>\n",
       "    <tr>\n",
       "      <th>886</th>\n",
       "      <td>887</td>\n",
       "      <td>0</td>\n",
       "      <td>2</td>\n",
       "      <td>Montvila, Rev. Juozas</td>\n",
       "      <td>male</td>\n",
       "      <td>27.0</td>\n",
       "      <td>0</td>\n",
       "      <td>0</td>\n",
       "      <td>211536</td>\n",
       "      <td>13.00</td>\n",
       "      <td>NaN</td>\n",
       "      <td>S</td>\n",
       "    </tr>\n",
       "    <tr>\n",
       "      <th>887</th>\n",
       "      <td>888</td>\n",
       "      <td>1</td>\n",
       "      <td>1</td>\n",
       "      <td>Graham, Miss. Margaret Edith</td>\n",
       "      <td>female</td>\n",
       "      <td>19.0</td>\n",
       "      <td>0</td>\n",
       "      <td>0</td>\n",
       "      <td>112053</td>\n",
       "      <td>30.00</td>\n",
       "      <td>B42</td>\n",
       "      <td>S</td>\n",
       "    </tr>\n",
       "    <tr>\n",
       "      <th>888</th>\n",
       "      <td>889</td>\n",
       "      <td>0</td>\n",
       "      <td>3</td>\n",
       "      <td>Johnston, Miss. Catherine Helen \"Carrie\"</td>\n",
       "      <td>female</td>\n",
       "      <td>NaN</td>\n",
       "      <td>1</td>\n",
       "      <td>2</td>\n",
       "      <td>W./C. 6607</td>\n",
       "      <td>23.45</td>\n",
       "      <td>NaN</td>\n",
       "      <td>S</td>\n",
       "    </tr>\n",
       "    <tr>\n",
       "      <th>889</th>\n",
       "      <td>890</td>\n",
       "      <td>1</td>\n",
       "      <td>1</td>\n",
       "      <td>Behr, Mr. Karl Howell</td>\n",
       "      <td>male</td>\n",
       "      <td>26.0</td>\n",
       "      <td>0</td>\n",
       "      <td>0</td>\n",
       "      <td>111369</td>\n",
       "      <td>30.00</td>\n",
       "      <td>C148</td>\n",
       "      <td>C</td>\n",
       "    </tr>\n",
       "    <tr>\n",
       "      <th>890</th>\n",
       "      <td>891</td>\n",
       "      <td>0</td>\n",
       "      <td>3</td>\n",
       "      <td>Dooley, Mr. Patrick</td>\n",
       "      <td>male</td>\n",
       "      <td>32.0</td>\n",
       "      <td>0</td>\n",
       "      <td>0</td>\n",
       "      <td>370376</td>\n",
       "      <td>7.75</td>\n",
       "      <td>NaN</td>\n",
       "      <td>Q</td>\n",
       "    </tr>\n",
       "  </tbody>\n",
       "</table>\n",
       "</div>"
      ],
      "text/plain": [
       "     PassengerId  Survived  Pclass                                      Name  \\\n",
       "886          887         0       2                     Montvila, Rev. Juozas   \n",
       "887          888         1       1              Graham, Miss. Margaret Edith   \n",
       "888          889         0       3  Johnston, Miss. Catherine Helen \"Carrie\"   \n",
       "889          890         1       1                     Behr, Mr. Karl Howell   \n",
       "890          891         0       3                       Dooley, Mr. Patrick   \n",
       "\n",
       "        Sex   Age  SibSp  Parch      Ticket   Fare Cabin Embarked  \n",
       "886    male  27.0      0      0      211536  13.00   NaN        S  \n",
       "887  female  19.0      0      0      112053  30.00   B42        S  \n",
       "888  female   NaN      1      2  W./C. 6607  23.45   NaN        S  \n",
       "889    male  26.0      0      0      111369  30.00  C148        C  \n",
       "890    male  32.0      0      0      370376   7.75   NaN        Q  "
      ]
     },
     "execution_count": 6,
     "metadata": {},
     "output_type": "execute_result"
    }
   ],
   "source": [
    "train.tail()"
   ]
  },
  {
   "cell_type": "code",
   "execution_count": 7,
   "id": "2024a1c3",
   "metadata": {
    "execution": {
     "iopub.execute_input": "2021-07-28T08:13:16.620978Z",
     "iopub.status.busy": "2021-07-28T08:13:16.619966Z",
     "iopub.status.idle": "2021-07-28T08:13:16.627886Z",
     "shell.execute_reply": "2021-07-28T08:13:16.627342Z"
    },
    "id": "m1WwRYtFvu8p",
    "outputId": "bdd11360-1fc6-46e9-d44c-dc852f8cf191",
    "papermill": {
     "duration": 0.038696,
     "end_time": "2021-07-28T08:13:16.628023",
     "exception": false,
     "start_time": "2021-07-28T08:13:16.589327",
     "status": "completed"
    },
    "tags": []
   },
   "outputs": [
    {
     "name": "stdout",
     "output_type": "stream",
     "text": [
      "(891, 12)\n",
      "(418, 11)\n",
      "(418, 2)\n"
     ]
    }
   ],
   "source": [
    "print(train.shape) #속성은 괄호가 없다.\n",
    "print(test.shape)\n",
    "print(submission.shape)"
   ]
  },
  {
   "cell_type": "code",
   "execution_count": 8,
   "id": "16859141",
   "metadata": {
    "execution": {
     "iopub.execute_input": "2021-07-28T08:13:16.709767Z",
     "iopub.status.busy": "2021-07-28T08:13:16.691683Z",
     "iopub.status.idle": "2021-07-28T08:13:16.713476Z",
     "shell.execute_reply": "2021-07-28T08:13:16.714185Z"
    },
    "id": "pyGruXPvv1Op",
    "outputId": "400da3fe-b411-4167-f314-dd2af30ddfe2",
    "papermill": {
     "duration": 0.057654,
     "end_time": "2021-07-28T08:13:16.714411",
     "exception": false,
     "start_time": "2021-07-28T08:13:16.656757",
     "status": "completed"
    },
    "tags": []
   },
   "outputs": [
    {
     "name": "stdout",
     "output_type": "stream",
     "text": [
      "<class 'pandas.core.frame.DataFrame'>\n",
      "RangeIndex: 891 entries, 0 to 890\n",
      "Data columns (total 12 columns):\n",
      " #   Column       Non-Null Count  Dtype  \n",
      "---  ------       --------------  -----  \n",
      " 0   PassengerId  891 non-null    int64  \n",
      " 1   Survived     891 non-null    int64  \n",
      " 2   Pclass       891 non-null    int64  \n",
      " 3   Name         891 non-null    object \n",
      " 4   Sex          891 non-null    object \n",
      " 5   Age          714 non-null    float64\n",
      " 6   SibSp        891 non-null    int64  \n",
      " 7   Parch        891 non-null    int64  \n",
      " 8   Ticket       891 non-null    object \n",
      " 9   Fare         891 non-null    float64\n",
      " 10  Cabin        204 non-null    object \n",
      " 11  Embarked     889 non-null    object \n",
      "dtypes: float64(2), int64(5), object(5)\n",
      "memory usage: 83.7+ KB\n"
     ]
    }
   ],
   "source": [
    "train.info()"
   ]
  },
  {
   "cell_type": "code",
   "execution_count": 9,
   "id": "6a0cdd98",
   "metadata": {
    "execution": {
     "iopub.execute_input": "2021-07-28T08:13:16.787511Z",
     "iopub.status.busy": "2021-07-28T08:13:16.786605Z",
     "iopub.status.idle": "2021-07-28T08:13:16.790512Z",
     "shell.execute_reply": "2021-07-28T08:13:16.790998Z"
    },
    "id": "ob1LGA5ywgBZ",
    "outputId": "7f5eb67a-b5fa-435b-d003-029488e0db7f",
    "papermill": {
     "duration": 0.047007,
     "end_time": "2021-07-28T08:13:16.791178",
     "exception": false,
     "start_time": "2021-07-28T08:13:16.744171",
     "status": "completed"
    },
    "tags": []
   },
   "outputs": [
    {
     "name": "stdout",
     "output_type": "stream",
     "text": [
      "<class 'pandas.core.frame.DataFrame'>\n",
      "RangeIndex: 418 entries, 0 to 417\n",
      "Data columns (total 11 columns):\n",
      " #   Column       Non-Null Count  Dtype  \n",
      "---  ------       --------------  -----  \n",
      " 0   PassengerId  418 non-null    int64  \n",
      " 1   Pclass       418 non-null    int64  \n",
      " 2   Name         418 non-null    object \n",
      " 3   Sex          418 non-null    object \n",
      " 4   Age          332 non-null    float64\n",
      " 5   SibSp        418 non-null    int64  \n",
      " 6   Parch        418 non-null    int64  \n",
      " 7   Ticket       418 non-null    object \n",
      " 8   Fare         417 non-null    float64\n",
      " 9   Cabin        91 non-null     object \n",
      " 10  Embarked     418 non-null    object \n",
      "dtypes: float64(2), int64(4), object(5)\n",
      "memory usage: 36.0+ KB\n"
     ]
    }
   ],
   "source": [
    "test.info()"
   ]
  },
  {
   "cell_type": "code",
   "execution_count": 10,
   "id": "b7ad7009",
   "metadata": {
    "execution": {
     "iopub.execute_input": "2021-07-28T08:13:16.859923Z",
     "iopub.status.busy": "2021-07-28T08:13:16.859191Z",
     "iopub.status.idle": "2021-07-28T08:13:16.903937Z",
     "shell.execute_reply": "2021-07-28T08:13:16.903280Z"
    },
    "id": "KSoL3aqSxKWY",
    "outputId": "56371ca0-6f6c-4ae1-d7c1-d4f572a40c63",
    "papermill": {
     "duration": 0.083444,
     "end_time": "2021-07-28T08:13:16.904095",
     "exception": false,
     "start_time": "2021-07-28T08:13:16.820651",
     "status": "completed"
    },
    "tags": []
   },
   "outputs": [
    {
     "name": "stdout",
     "output_type": "stream",
     "text": [
      "       PassengerId    Survived      Pclass         Age       SibSp  \\\n",
      "count   891.000000  891.000000  891.000000  714.000000  891.000000   \n",
      "mean    446.000000    0.383838    2.308642   29.699118    0.523008   \n",
      "std     257.353842    0.486592    0.836071   14.526497    1.102743   \n",
      "min       1.000000    0.000000    1.000000    0.420000    0.000000   \n",
      "25%     223.500000    0.000000    2.000000   20.125000    0.000000   \n",
      "50%     446.000000    0.000000    3.000000   28.000000    0.000000   \n",
      "75%     668.500000    1.000000    3.000000   38.000000    1.000000   \n",
      "max     891.000000    1.000000    3.000000   80.000000    8.000000   \n",
      "\n",
      "            Parch        Fare  \n",
      "count  891.000000  891.000000  \n",
      "mean     0.381594   32.204208  \n",
      "std      0.806057   49.693429  \n",
      "min      0.000000    0.000000  \n",
      "25%      0.000000    7.910400  \n",
      "50%      0.000000   14.454200  \n",
      "75%      0.000000   31.000000  \n",
      "max      6.000000  512.329200  \n",
      "       PassengerId      Pclass         Age       SibSp       Parch        Fare\n",
      "count   418.000000  418.000000  332.000000  418.000000  418.000000  417.000000\n",
      "mean   1100.500000    2.265550   30.272590    0.447368    0.392344   35.627188\n",
      "std     120.810458    0.841838   14.181209    0.896760    0.981429   55.907576\n",
      "min     892.000000    1.000000    0.170000    0.000000    0.000000    0.000000\n",
      "25%     996.250000    1.000000   21.000000    0.000000    0.000000    7.895800\n",
      "50%    1100.500000    3.000000   27.000000    0.000000    0.000000   14.454200\n",
      "75%    1204.750000    3.000000   39.000000    1.000000    0.000000   31.500000\n",
      "max    1309.000000    3.000000   76.000000    8.000000    9.000000  512.329200\n"
     ]
    }
   ],
   "source": [
    "print(train.describe())\n",
    "print(test.describe())"
   ]
  },
  {
   "cell_type": "code",
   "execution_count": 11,
   "id": "64abee59",
   "metadata": {
    "execution": {
     "iopub.execute_input": "2021-07-28T08:13:16.972799Z",
     "iopub.status.busy": "2021-07-28T08:13:16.972124Z",
     "iopub.status.idle": "2021-07-28T08:13:16.975501Z",
     "shell.execute_reply": "2021-07-28T08:13:16.974879Z"
    },
    "id": "co2jxmzCxnMg",
    "outputId": "bf6520aa-b168-41c5-9829-0e1d7466ead2",
    "papermill": {
     "duration": 0.040378,
     "end_time": "2021-07-28T08:13:16.975645",
     "exception": false,
     "start_time": "2021-07-28T08:13:16.935267",
     "status": "completed"
    },
    "tags": []
   },
   "outputs": [
    {
     "data": {
      "text/plain": [
       "S    644\n",
       "C    168\n",
       "Q     77\n",
       "Name: Embarked, dtype: int64"
      ]
     },
     "execution_count": 11,
     "metadata": {},
     "output_type": "execute_result"
    }
   ],
   "source": [
    "#describe()는 데이터프레임\n",
    "#value_counts 는 시리즈에서만 실행 시리즈는 하나의 열\n",
    "train['Embarked'].value_counts()"
   ]
  },
  {
   "cell_type": "code",
   "execution_count": 12,
   "id": "2cb4f464",
   "metadata": {
    "execution": {
     "iopub.execute_input": "2021-07-28T08:13:17.043683Z",
     "iopub.status.busy": "2021-07-28T08:13:17.043008Z",
     "iopub.status.idle": "2021-07-28T08:13:17.047452Z",
     "shell.execute_reply": "2021-07-28T08:13:17.046737Z"
    },
    "id": "J0hiPYEkzQUC",
    "outputId": "0a071417-a44b-4599-ab7b-07c8397c9bf9",
    "papermill": {
     "duration": 0.040722,
     "end_time": "2021-07-28T08:13:17.047603",
     "exception": false,
     "start_time": "2021-07-28T08:13:17.006881",
     "status": "completed"
    },
    "tags": []
   },
   "outputs": [
    {
     "data": {
      "text/plain": [
       "array(['S', 'C', 'Q', nan], dtype=object)"
      ]
     },
     "execution_count": 12,
     "metadata": {},
     "output_type": "execute_result"
    }
   ],
   "source": [
    "train['Embarked'].unique() #유니크도 시리즈만"
   ]
  },
  {
   "cell_type": "code",
   "execution_count": 13,
   "id": "6b2112ae",
   "metadata": {
    "execution": {
     "iopub.execute_input": "2021-07-28T08:13:17.117276Z",
     "iopub.status.busy": "2021-07-28T08:13:17.116249Z",
     "iopub.status.idle": "2021-07-28T08:13:17.130743Z",
     "shell.execute_reply": "2021-07-28T08:13:17.129817Z"
    },
    "id": "MTg0KI9BzhvY",
    "outputId": "91396b95-61e2-4893-c0c8-594eb552e48a",
    "papermill": {
     "duration": 0.052333,
     "end_time": "2021-07-28T08:13:17.130885",
     "exception": false,
     "start_time": "2021-07-28T08:13:17.078552",
     "status": "completed"
    },
    "tags": []
   },
   "outputs": [
    {
     "data": {
      "text/html": [
       "<div>\n",
       "<style scoped>\n",
       "    .dataframe tbody tr th:only-of-type {\n",
       "        vertical-align: middle;\n",
       "    }\n",
       "\n",
       "    .dataframe tbody tr th {\n",
       "        vertical-align: top;\n",
       "    }\n",
       "\n",
       "    .dataframe thead th {\n",
       "        text-align: right;\n",
       "    }\n",
       "</style>\n",
       "<table border=\"1\" class=\"dataframe\">\n",
       "  <thead>\n",
       "    <tr style=\"text-align: right;\">\n",
       "      <th></th>\n",
       "      <th>PassengerId</th>\n",
       "      <th>Survived</th>\n",
       "      <th>Pclass</th>\n",
       "      <th>Age</th>\n",
       "      <th>SibSp</th>\n",
       "      <th>Parch</th>\n",
       "      <th>Fare</th>\n",
       "    </tr>\n",
       "    <tr>\n",
       "      <th>Sex</th>\n",
       "      <th></th>\n",
       "      <th></th>\n",
       "      <th></th>\n",
       "      <th></th>\n",
       "      <th></th>\n",
       "      <th></th>\n",
       "      <th></th>\n",
       "    </tr>\n",
       "  </thead>\n",
       "  <tbody>\n",
       "    <tr>\n",
       "      <th>female</th>\n",
       "      <td>431.028662</td>\n",
       "      <td>0.742038</td>\n",
       "      <td>2.159236</td>\n",
       "      <td>27.915709</td>\n",
       "      <td>0.694268</td>\n",
       "      <td>0.649682</td>\n",
       "      <td>44.479818</td>\n",
       "    </tr>\n",
       "    <tr>\n",
       "      <th>male</th>\n",
       "      <td>454.147314</td>\n",
       "      <td>0.188908</td>\n",
       "      <td>2.389948</td>\n",
       "      <td>30.726645</td>\n",
       "      <td>0.429809</td>\n",
       "      <td>0.235702</td>\n",
       "      <td>25.523893</td>\n",
       "    </tr>\n",
       "  </tbody>\n",
       "</table>\n",
       "</div>"
      ],
      "text/plain": [
       "        PassengerId  Survived    Pclass        Age     SibSp     Parch  \\\n",
       "Sex                                                                      \n",
       "female   431.028662  0.742038  2.159236  27.915709  0.694268  0.649682   \n",
       "male     454.147314  0.188908  2.389948  30.726645  0.429809  0.235702   \n",
       "\n",
       "             Fare  \n",
       "Sex                \n",
       "female  44.479818  \n",
       "male    25.523893  "
      ]
     },
     "execution_count": 13,
     "metadata": {},
     "output_type": "execute_result"
    }
   ],
   "source": [
    "train.groupby('Sex').mean()"
   ]
  },
  {
   "cell_type": "code",
   "execution_count": 14,
   "id": "132772ea",
   "metadata": {
    "execution": {
     "iopub.execute_input": "2021-07-28T08:13:17.203248Z",
     "iopub.status.busy": "2021-07-28T08:13:17.202517Z",
     "iopub.status.idle": "2021-07-28T08:13:17.216485Z",
     "shell.execute_reply": "2021-07-28T08:13:17.215782Z"
    },
    "id": "jYKWr31Jz37o",
    "outputId": "626903b8-6f06-4ac9-e177-4171212a2559",
    "papermill": {
     "duration": 0.054259,
     "end_time": "2021-07-28T08:13:17.216639",
     "exception": false,
     "start_time": "2021-07-28T08:13:17.162380",
     "status": "completed"
    },
    "tags": []
   },
   "outputs": [
    {
     "data": {
      "text/html": [
       "<div>\n",
       "<style scoped>\n",
       "    .dataframe tbody tr th:only-of-type {\n",
       "        vertical-align: middle;\n",
       "    }\n",
       "\n",
       "    .dataframe tbody tr th {\n",
       "        vertical-align: top;\n",
       "    }\n",
       "\n",
       "    .dataframe thead th {\n",
       "        text-align: right;\n",
       "    }\n",
       "</style>\n",
       "<table border=\"1\" class=\"dataframe\">\n",
       "  <thead>\n",
       "    <tr style=\"text-align: right;\">\n",
       "      <th></th>\n",
       "      <th>PassengerId</th>\n",
       "      <th>Survived</th>\n",
       "      <th>Age</th>\n",
       "      <th>SibSp</th>\n",
       "      <th>Parch</th>\n",
       "      <th>Fare</th>\n",
       "    </tr>\n",
       "    <tr>\n",
       "      <th>Pclass</th>\n",
       "      <th></th>\n",
       "      <th></th>\n",
       "      <th></th>\n",
       "      <th></th>\n",
       "      <th></th>\n",
       "      <th></th>\n",
       "    </tr>\n",
       "  </thead>\n",
       "  <tbody>\n",
       "    <tr>\n",
       "      <th>1</th>\n",
       "      <td>461.597222</td>\n",
       "      <td>0.629630</td>\n",
       "      <td>38.233441</td>\n",
       "      <td>0.416667</td>\n",
       "      <td>0.356481</td>\n",
       "      <td>84.154687</td>\n",
       "    </tr>\n",
       "    <tr>\n",
       "      <th>2</th>\n",
       "      <td>445.956522</td>\n",
       "      <td>0.472826</td>\n",
       "      <td>29.877630</td>\n",
       "      <td>0.402174</td>\n",
       "      <td>0.380435</td>\n",
       "      <td>20.662183</td>\n",
       "    </tr>\n",
       "    <tr>\n",
       "      <th>3</th>\n",
       "      <td>439.154786</td>\n",
       "      <td>0.242363</td>\n",
       "      <td>25.140620</td>\n",
       "      <td>0.615071</td>\n",
       "      <td>0.393075</td>\n",
       "      <td>13.675550</td>\n",
       "    </tr>\n",
       "  </tbody>\n",
       "</table>\n",
       "</div>"
      ],
      "text/plain": [
       "        PassengerId  Survived        Age     SibSp     Parch       Fare\n",
       "Pclass                                                                 \n",
       "1        461.597222  0.629630  38.233441  0.416667  0.356481  84.154687\n",
       "2        445.956522  0.472826  29.877630  0.402174  0.380435  20.662183\n",
       "3        439.154786  0.242363  25.140620  0.615071  0.393075  13.675550"
      ]
     },
     "execution_count": 14,
     "metadata": {},
     "output_type": "execute_result"
    }
   ],
   "source": [
    "train.groupby('Pclass').mean()"
   ]
  },
  {
   "cell_type": "code",
   "execution_count": 15,
   "id": "6b8fceeb",
   "metadata": {
    "execution": {
     "iopub.execute_input": "2021-07-28T08:13:17.290666Z",
     "iopub.status.busy": "2021-07-28T08:13:17.289988Z",
     "iopub.status.idle": "2021-07-28T08:13:17.484012Z",
     "shell.execute_reply": "2021-07-28T08:13:17.484514Z"
    },
    "id": "vi7OQ94O0JnG",
    "outputId": "b86b008f-0a83-4baa-f730-d6f5ab46129b",
    "papermill": {
     "duration": 0.234439,
     "end_time": "2021-07-28T08:13:17.484682",
     "exception": false,
     "start_time": "2021-07-28T08:13:17.250243",
     "status": "completed"
    },
    "tags": []
   },
   "outputs": [
    {
     "data": {
      "text/plain": [
       "<AxesSubplot:xlabel='Pclass'>"
      ]
     },
     "execution_count": 15,
     "metadata": {},
     "output_type": "execute_result"
    },
    {
     "data": {
      "image/png": "[encoded data removed]",
      "text/plain": [
       "<Figure size 432x288 with 1 Axes>"
      ]
     },
     "metadata": {
      "needs_background": "light"
     },
     "output_type": "display_data"
    }
   ],
   "source": [
    "#시각화\n",
    "#pd.Series.plot(kind='bar')\n",
    "\n",
    "train.groupby('Pclass').mean()['Survived'].plot(kind='bar', rot=0)  #rot=0 x축 돌아간거 수정 45는 비스듬히"
   ]
  },
  {
   "cell_type": "code",
   "execution_count": 16,
   "id": "29bb8c63",
   "metadata": {
    "execution": {
     "iopub.execute_input": "2021-07-28T08:13:17.557008Z",
     "iopub.status.busy": "2021-07-28T08:13:17.556367Z",
     "iopub.status.idle": "2021-07-28T08:13:17.825592Z",
     "shell.execute_reply": "2021-07-28T08:13:17.826031Z"
    },
    "id": "W61p6ppd08Wg",
    "outputId": "2bc81034-975e-4b9b-f184-688d2a16049d",
    "papermill": {
     "duration": 0.308096,
     "end_time": "2021-07-28T08:13:17.826216",
     "exception": false,
     "start_time": "2021-07-28T08:13:17.518120",
     "status": "completed"
    },
    "tags": []
   },
   "outputs": [
    {
     "data": {
      "text/plain": [
       "<AxesSubplot:ylabel='Frequency'>"
      ]
     },
     "execution_count": 16,
     "metadata": {},
     "output_type": "execute_result"
    },
    {
     "data": {
      "image/png": "[encoded data removed]",
      "text/plain": [
       "<Figure size 432x288 with 1 Axes>"
      ]
     },
     "metadata": {
      "needs_background": "light"
     },
     "output_type": "display_data"
    }
   ],
   "source": [
    "train['Age'].plot(kind='hist',bins=50,grid=True) #bins 도수를 더 잘게 나눔 보조선까지 추가"
   ]
  },
  {
   "cell_type": "code",
   "execution_count": 17,
   "id": "a77bc4b6",
   "metadata": {
    "execution": {
     "iopub.execute_input": "2021-07-28T08:13:17.899275Z",
     "iopub.status.busy": "2021-07-28T08:13:17.898593Z",
     "iopub.status.idle": "2021-07-28T08:13:18.104424Z",
     "shell.execute_reply": "2021-07-28T08:13:18.104911Z"
    },
    "id": "WpMgv5_o2utP",
    "outputId": "0af7e1fc-fa51-47c4-f419-87c026169c8b",
    "papermill": {
     "duration": 0.243783,
     "end_time": "2021-07-28T08:13:18.105102",
     "exception": false,
     "start_time": "2021-07-28T08:13:17.861319",
     "status": "completed"
    },
    "tags": []
   },
   "outputs": [
    {
     "data": {
      "text/plain": [
       "<AxesSubplot:xlabel='Age', ylabel='Fare'>"
      ]
     },
     "execution_count": 17,
     "metadata": {},
     "output_type": "execute_result"
    },
    {
     "data": {
      "image/png": "[encoded data removed]",
      "text/plain": [
       "<Figure size 432x288 with 1 Axes>"
      ]
     },
     "metadata": {
      "needs_background": "light"
     },
     "output_type": "display_data"
    }
   ],
   "source": [
    "train.plot(x='Age',y='Fare',kind='scatter')"
   ]
  },
  {
   "cell_type": "code",
   "execution_count": 18,
   "id": "cf0ee56d",
   "metadata": {
    "execution": {
     "iopub.execute_input": "2021-07-28T08:13:18.180896Z",
     "iopub.status.busy": "2021-07-28T08:13:18.180250Z",
     "iopub.status.idle": "2021-07-28T08:13:18.189263Z",
     "shell.execute_reply": "2021-07-28T08:13:18.188654Z"
    },
    "id": "de2r6kSv3IFP",
    "outputId": "97584f10-5975-46ac-84ba-e0ecf3fc94d8",
    "papermill": {
     "duration": 0.047681,
     "end_time": "2021-07-28T08:13:18.189421",
     "exception": false,
     "start_time": "2021-07-28T08:13:18.141740",
     "status": "completed"
    },
    "tags": []
   },
   "outputs": [
    {
     "data": {
      "text/plain": [
       "PassengerId      0\n",
       "Survived         0\n",
       "Pclass           0\n",
       "Name             0\n",
       "Sex              0\n",
       "Age            177\n",
       "SibSp            0\n",
       "Parch            0\n",
       "Ticket           0\n",
       "Fare             0\n",
       "Cabin          687\n",
       "Embarked         2\n",
       "dtype: int64"
      ]
     },
     "execution_count": 18,
     "metadata": {},
     "output_type": "execute_result"
    }
   ],
   "source": [
    "##데이터 전처리 //결측값 처리 공부\n",
    "train.isna().sum()\n"
   ]
  },
  {
   "cell_type": "code",
   "execution_count": 19,
   "id": "53c110c4",
   "metadata": {
    "execution": {
     "iopub.execute_input": "2021-07-28T08:13:18.268467Z",
     "iopub.status.busy": "2021-07-28T08:13:18.267647Z",
     "iopub.status.idle": "2021-07-28T08:13:18.271730Z",
     "shell.execute_reply": "2021-07-28T08:13:18.271244Z"
    },
    "id": "UXPBq_iK3sXO",
    "outputId": "bdc46e66-1657-49a5-b72d-75eb3f37f114",
    "papermill": {
     "duration": 0.045958,
     "end_time": "2021-07-28T08:13:18.271867",
     "exception": false,
     "start_time": "2021-07-28T08:13:18.225909",
     "status": "completed"
    },
    "tags": []
   },
   "outputs": [
    {
     "data": {
      "text/plain": [
       "28.0"
      ]
     },
     "execution_count": 19,
     "metadata": {},
     "output_type": "execute_result"
    }
   ],
   "source": [
    "train['Age'].median()"
   ]
  },
  {
   "cell_type": "code",
   "execution_count": 20,
   "id": "918901e2",
   "metadata": {
    "execution": {
     "iopub.execute_input": "2021-07-28T08:13:18.350907Z",
     "iopub.status.busy": "2021-07-28T08:13:18.350154Z",
     "iopub.status.idle": "2021-07-28T08:13:18.353176Z",
     "shell.execute_reply": "2021-07-28T08:13:18.352646Z"
    },
    "id": "3y6x01jM4YE2",
    "papermill": {
     "duration": 0.044822,
     "end_time": "2021-07-28T08:13:18.353319",
     "exception": false,
     "start_time": "2021-07-28T08:13:18.308497",
     "status": "completed"
    },
    "tags": []
   },
   "outputs": [],
   "source": [
    "train['Age'].fillna(28)#이것만 쓰면 저장이 안됨!\n",
    "train['Age']=train['Age'].fillna(28)"
   ]
  },
  {
   "cell_type": "code",
   "execution_count": 21,
   "id": "1b847077",
   "metadata": {
    "execution": {
     "iopub.execute_input": "2021-07-28T08:13:18.436427Z",
     "iopub.status.busy": "2021-07-28T08:13:18.435526Z",
     "iopub.status.idle": "2021-07-28T08:13:18.439086Z",
     "shell.execute_reply": "2021-07-28T08:13:18.439614Z"
    },
    "id": "A6xpNTPV4gl-",
    "outputId": "8bfb92c5-0fde-466d-dee6-ad37fd341189",
    "papermill": {
     "duration": 0.049169,
     "end_time": "2021-07-28T08:13:18.439793",
     "exception": false,
     "start_time": "2021-07-28T08:13:18.390624",
     "status": "completed"
    },
    "tags": []
   },
   "outputs": [
    {
     "data": {
      "text/plain": [
       "PassengerId      0\n",
       "Survived         0\n",
       "Pclass           0\n",
       "Name             0\n",
       "Sex              0\n",
       "Age              0\n",
       "SibSp            0\n",
       "Parch            0\n",
       "Ticket           0\n",
       "Fare             0\n",
       "Cabin          687\n",
       "Embarked         2\n",
       "dtype: int64"
      ]
     },
     "execution_count": 21,
     "metadata": {},
     "output_type": "execute_result"
    }
   ],
   "source": [
    "train.isna().sum()# Age 확인"
   ]
  },
  {
   "cell_type": "code",
   "execution_count": 22,
   "id": "aaa027a3",
   "metadata": {
    "execution": {
     "iopub.execute_input": "2021-07-28T08:13:18.518644Z",
     "iopub.status.busy": "2021-07-28T08:13:18.517988Z",
     "iopub.status.idle": "2021-07-28T08:13:18.525122Z",
     "shell.execute_reply": "2021-07-28T08:13:18.525575Z"
    },
    "id": "4ZaLm0ij4tnd",
    "outputId": "ccb1590f-7d45-45b0-98bf-1e3b40f6fcb5",
    "papermill": {
     "duration": 0.04873,
     "end_time": "2021-07-28T08:13:18.525758",
     "exception": false,
     "start_time": "2021-07-28T08:13:18.477028",
     "status": "completed"
    },
    "tags": []
   },
   "outputs": [
    {
     "data": {
      "text/plain": [
       "S    644\n",
       "C    168\n",
       "Q     77\n",
       "Name: Embarked, dtype: int64"
      ]
     },
     "execution_count": 22,
     "metadata": {},
     "output_type": "execute_result"
    }
   ],
   "source": [
    "train['Embarked'].value_counts()"
   ]
  },
  {
   "cell_type": "code",
   "execution_count": 23,
   "id": "5698087c",
   "metadata": {
    "execution": {
     "iopub.execute_input": "2021-07-28T08:13:18.604692Z",
     "iopub.status.busy": "2021-07-28T08:13:18.603739Z",
     "iopub.status.idle": "2021-07-28T08:13:18.608740Z",
     "shell.execute_reply": "2021-07-28T08:13:18.609225Z"
    },
    "id": "Z-bWi1EZ49FO",
    "papermill": {
     "duration": 0.046056,
     "end_time": "2021-07-28T08:13:18.609401",
     "exception": false,
     "start_time": "2021-07-28T08:13:18.563345",
     "status": "completed"
    },
    "tags": []
   },
   "outputs": [],
   "source": [
    "train['Embarked']=train['Embarked'].fillna('S')"
   ]
  },
  {
   "cell_type": "code",
   "execution_count": 24,
   "id": "37531b56",
   "metadata": {
    "execution": {
     "iopub.execute_input": "2021-07-28T08:13:18.688341Z",
     "iopub.status.busy": "2021-07-28T08:13:18.687403Z",
     "iopub.status.idle": "2021-07-28T08:13:18.696075Z",
     "shell.execute_reply": "2021-07-28T08:13:18.696523Z"
    },
    "id": "GbXQJkmB5FZN",
    "outputId": "b7486890-aa62-4158-a52d-cbe6d9766ddd",
    "papermill": {
     "duration": 0.049555,
     "end_time": "2021-07-28T08:13:18.696692",
     "exception": false,
     "start_time": "2021-07-28T08:13:18.647137",
     "status": "completed"
    },
    "tags": []
   },
   "outputs": [
    {
     "data": {
      "text/plain": [
       "PassengerId      0\n",
       "Survived         0\n",
       "Pclass           0\n",
       "Name             0\n",
       "Sex              0\n",
       "Age              0\n",
       "SibSp            0\n",
       "Parch            0\n",
       "Ticket           0\n",
       "Fare             0\n",
       "Cabin          687\n",
       "Embarked         0\n",
       "dtype: int64"
      ]
     },
     "execution_count": 24,
     "metadata": {},
     "output_type": "execute_result"
    }
   ],
   "source": [
    "train.isna().sum()# Embarked 확인"
   ]
  },
  {
   "cell_type": "code",
   "execution_count": 25,
   "id": "223175fd",
   "metadata": {
    "execution": {
     "iopub.execute_input": "2021-07-28T08:13:18.776335Z",
     "iopub.status.busy": "2021-07-28T08:13:18.775338Z",
     "iopub.status.idle": "2021-07-28T08:13:18.781120Z",
     "shell.execute_reply": "2021-07-28T08:13:18.781575Z"
    },
    "id": "ddHDvC645IfN",
    "papermill": {
     "duration": 0.047134,
     "end_time": "2021-07-28T08:13:18.781762",
     "exception": false,
     "start_time": "2021-07-28T08:13:18.734628",
     "status": "completed"
    },
    "tags": []
   },
   "outputs": [],
   "source": [
    "#pd.Series.map() #시리즈 내 값을 변환할 떄 사용하는 함수\n",
    "\n",
    "train['Sex']=train['Sex'].map({'male':0,'female':1})"
   ]
  },
  {
   "cell_type": "code",
   "execution_count": 26,
   "id": "4ff155e0",
   "metadata": {
    "execution": {
     "iopub.execute_input": "2021-07-28T08:13:18.861994Z",
     "iopub.status.busy": "2021-07-28T08:13:18.861094Z",
     "iopub.status.idle": "2021-07-28T08:13:18.868239Z",
     "shell.execute_reply": "2021-07-28T08:13:18.868677Z"
    },
    "id": "ArgU8ST-5zKV",
    "outputId": "87b19d6f-4420-449d-bf2b-ee856e806c39",
    "papermill": {
     "duration": 0.048998,
     "end_time": "2021-07-28T08:13:18.868860",
     "exception": false,
     "start_time": "2021-07-28T08:13:18.819862",
     "status": "completed"
    },
    "tags": []
   },
   "outputs": [
    {
     "data": {
      "text/plain": [
       "0      0\n",
       "1      1\n",
       "2      1\n",
       "3      1\n",
       "4      0\n",
       "      ..\n",
       "886    0\n",
       "887    1\n",
       "888    1\n",
       "889    0\n",
       "890    0\n",
       "Name: Sex, Length: 891, dtype: int64"
      ]
     },
     "execution_count": 26,
     "metadata": {},
     "output_type": "execute_result"
    }
   ],
   "source": [
    "train['Sex']"
   ]
  },
  {
   "cell_type": "code",
   "execution_count": 27,
   "id": "4b2678e8",
   "metadata": {
    "execution": {
     "iopub.execute_input": "2021-07-28T08:13:18.949914Z",
     "iopub.status.busy": "2021-07-28T08:13:18.948945Z",
     "iopub.status.idle": "2021-07-28T08:13:18.954869Z",
     "shell.execute_reply": "2021-07-28T08:13:18.955356Z"
    },
    "id": "zZqSFhJ5R3hu",
    "papermill": {
     "duration": 0.048046,
     "end_time": "2021-07-28T08:13:18.955538",
     "exception": false,
     "start_time": "2021-07-28T08:13:18.907492",
     "status": "completed"
    },
    "tags": []
   },
   "outputs": [],
   "source": [
    "#X -> MODEL -> y\n",
    "X_train=train[['Sex','Pclass']]\n",
    "y_train=train['Survived']"
   ]
  },
  {
   "cell_type": "code",
   "execution_count": 28,
   "id": "dc950773",
   "metadata": {
    "execution": {
     "iopub.execute_input": "2021-07-28T08:13:19.037301Z",
     "iopub.status.busy": "2021-07-28T08:13:19.036333Z",
     "iopub.status.idle": "2021-07-28T08:13:19.043559Z",
     "shell.execute_reply": "2021-07-28T08:13:19.044083Z"
    },
    "id": "l7pY0XF7SrRF",
    "papermill": {
     "duration": 0.04975,
     "end_time": "2021-07-28T08:13:19.044267",
     "exception": false,
     "start_time": "2021-07-28T08:13:18.994517",
     "status": "completed"
    },
    "tags": []
   },
   "outputs": [],
   "source": [
    "test['Sex']=test['Sex'].map({'male':0,'female':1})\n",
    "X_test=test[['Sex','Pclass']]"
   ]
  },
  {
   "cell_type": "code",
   "execution_count": 29,
   "id": "8ca12d37",
   "metadata": {
    "execution": {
     "iopub.execute_input": "2021-07-28T08:13:19.127213Z",
     "iopub.status.busy": "2021-07-28T08:13:19.126238Z",
     "iopub.status.idle": "2021-07-28T08:13:19.138140Z",
     "shell.execute_reply": "2021-07-28T08:13:19.137473Z"
    },
    "id": "wIm7zuZWWBUN",
    "outputId": "0d0bd41e-1ec7-4608-f112-b856ba02d7fc",
    "papermill": {
     "duration": 0.054314,
     "end_time": "2021-07-28T08:13:19.138283",
     "exception": false,
     "start_time": "2021-07-28T08:13:19.083969",
     "status": "completed"
    },
    "tags": []
   },
   "outputs": [
    {
     "data": {
      "text/html": [
       "<div>\n",
       "<style scoped>\n",
       "    .dataframe tbody tr th:only-of-type {\n",
       "        vertical-align: middle;\n",
       "    }\n",
       "\n",
       "    .dataframe tbody tr th {\n",
       "        vertical-align: top;\n",
       "    }\n",
       "\n",
       "    .dataframe thead th {\n",
       "        text-align: right;\n",
       "    }\n",
       "</style>\n",
       "<table border=\"1\" class=\"dataframe\">\n",
       "  <thead>\n",
       "    <tr style=\"text-align: right;\">\n",
       "      <th></th>\n",
       "      <th>Sex</th>\n",
       "      <th>Pclass</th>\n",
       "    </tr>\n",
       "  </thead>\n",
       "  <tbody>\n",
       "    <tr>\n",
       "      <th>0</th>\n",
       "      <td>0</td>\n",
       "      <td>3</td>\n",
       "    </tr>\n",
       "    <tr>\n",
       "      <th>1</th>\n",
       "      <td>1</td>\n",
       "      <td>3</td>\n",
       "    </tr>\n",
       "    <tr>\n",
       "      <th>2</th>\n",
       "      <td>0</td>\n",
       "      <td>2</td>\n",
       "    </tr>\n",
       "    <tr>\n",
       "      <th>3</th>\n",
       "      <td>0</td>\n",
       "      <td>3</td>\n",
       "    </tr>\n",
       "    <tr>\n",
       "      <th>4</th>\n",
       "      <td>1</td>\n",
       "      <td>3</td>\n",
       "    </tr>\n",
       "    <tr>\n",
       "      <th>...</th>\n",
       "      <td>...</td>\n",
       "      <td>...</td>\n",
       "    </tr>\n",
       "    <tr>\n",
       "      <th>413</th>\n",
       "      <td>0</td>\n",
       "      <td>3</td>\n",
       "    </tr>\n",
       "    <tr>\n",
       "      <th>414</th>\n",
       "      <td>1</td>\n",
       "      <td>1</td>\n",
       "    </tr>\n",
       "    <tr>\n",
       "      <th>415</th>\n",
       "      <td>0</td>\n",
       "      <td>3</td>\n",
       "    </tr>\n",
       "    <tr>\n",
       "      <th>416</th>\n",
       "      <td>0</td>\n",
       "      <td>3</td>\n",
       "    </tr>\n",
       "    <tr>\n",
       "      <th>417</th>\n",
       "      <td>0</td>\n",
       "      <td>3</td>\n",
       "    </tr>\n",
       "  </tbody>\n",
       "</table>\n",
       "<p>418 rows × 2 columns</p>\n",
       "</div>"
      ],
      "text/plain": [
       "     Sex  Pclass\n",
       "0      0       3\n",
       "1      1       3\n",
       "2      0       2\n",
       "3      0       3\n",
       "4      1       3\n",
       "..   ...     ...\n",
       "413    0       3\n",
       "414    1       1\n",
       "415    0       3\n",
       "416    0       3\n",
       "417    0       3\n",
       "\n",
       "[418 rows x 2 columns]"
      ]
     },
     "execution_count": 29,
     "metadata": {},
     "output_type": "execute_result"
    }
   ],
   "source": [
    "X_test"
   ]
  },
  {
   "cell_type": "code",
   "execution_count": 30,
   "id": "3baec92f",
   "metadata": {
    "execution": {
     "iopub.execute_input": "2021-07-28T08:13:19.222601Z",
     "iopub.status.busy": "2021-07-28T08:13:19.221929Z",
     "iopub.status.idle": "2021-07-28T08:13:19.226824Z",
     "shell.execute_reply": "2021-07-28T08:13:19.226297Z"
    },
    "id": "93ADnZaoTO5V",
    "papermill": {
     "duration": 0.047812,
     "end_time": "2021-07-28T08:13:19.226969",
     "exception": false,
     "start_time": "2021-07-28T08:13:19.179157",
     "status": "completed"
    },
    "tags": []
   },
   "outputs": [],
   "source": [
    "lr=LogisticRegression()\n",
    "dt=DecisionTreeClassifier()"
   ]
  },
  {
   "cell_type": "code",
   "execution_count": 31,
   "id": "b1c6b7c0",
   "metadata": {
    "execution": {
     "iopub.execute_input": "2021-07-28T08:13:19.314637Z",
     "iopub.status.busy": "2021-07-28T08:13:19.313972Z",
     "iopub.status.idle": "2021-07-28T08:13:19.536973Z",
     "shell.execute_reply": "2021-07-28T08:13:19.536466Z"
    },
    "id": "M1yVmNXpTnEs",
    "outputId": "ebc4308e-4266-49fc-ab45-1de725ead76c",
    "papermill": {
     "duration": 0.269459,
     "end_time": "2021-07-28T08:13:19.537140",
     "exception": false,
     "start_time": "2021-07-28T08:13:19.267681",
     "status": "completed"
    },
    "tags": []
   },
   "outputs": [
    {
     "data": {
      "text/plain": [
       "LogisticRegression()"
      ]
     },
     "execution_count": 31,
     "metadata": {},
     "output_type": "execute_result"
    }
   ],
   "source": [
    "lr.fit(X_train,y_train)"
   ]
  },
  {
   "cell_type": "code",
   "execution_count": 32,
   "id": "d313f830",
   "metadata": {
    "execution": {
     "iopub.execute_input": "2021-07-28T08:13:19.625228Z",
     "iopub.status.busy": "2021-07-28T08:13:19.624577Z",
     "iopub.status.idle": "2021-07-28T08:13:19.630787Z",
     "shell.execute_reply": "2021-07-28T08:13:19.630181Z"
    },
    "id": "bahafQNPT1gt",
    "outputId": "1498c6ca-30ac-46d5-bd2d-77b1b6b01b14",
    "papermill": {
     "duration": 0.052579,
     "end_time": "2021-07-28T08:13:19.630921",
     "exception": false,
     "start_time": "2021-07-28T08:13:19.578342",
     "status": "completed"
    },
    "tags": []
   },
   "outputs": [
    {
     "data": {
      "text/plain": [
       "DecisionTreeClassifier()"
      ]
     },
     "execution_count": 32,
     "metadata": {},
     "output_type": "execute_result"
    }
   ],
   "source": [
    "dt.fit(X_train,y_train)"
   ]
  },
  {
   "cell_type": "code",
   "execution_count": 33,
   "id": "051b3da6",
   "metadata": {
    "execution": {
     "iopub.execute_input": "2021-07-28T08:13:19.720016Z",
     "iopub.status.busy": "2021-07-28T08:13:19.719370Z",
     "iopub.status.idle": "2021-07-28T08:13:19.721450Z",
     "shell.execute_reply": "2021-07-28T08:13:19.721927Z"
    },
    "id": "1eEcFfTkUXFk",
    "papermill": {
     "duration": 0.050264,
     "end_time": "2021-07-28T08:13:19.722111",
     "exception": false,
     "start_time": "2021-07-28T08:13:19.671847",
     "status": "completed"
    },
    "tags": []
   },
   "outputs": [],
   "source": [
    "lr_pred=lr.predict_proba(X_test)[:,1]"
   ]
  },
  {
   "cell_type": "code",
   "execution_count": 34,
   "id": "2b478a5f",
   "metadata": {
    "execution": {
     "iopub.execute_input": "2021-07-28T08:13:19.807500Z",
     "iopub.status.busy": "2021-07-28T08:13:19.806851Z",
     "iopub.status.idle": "2021-07-28T08:13:19.812370Z",
     "shell.execute_reply": "2021-07-28T08:13:19.812864Z"
    },
    "id": "ejCXZJwgW4jc",
    "papermill": {
     "duration": 0.050138,
     "end_time": "2021-07-28T08:13:19.813033",
     "exception": false,
     "start_time": "2021-07-28T08:13:19.762895",
     "status": "completed"
    },
    "tags": []
   },
   "outputs": [],
   "source": [
    "dt_pred=dt.predict_proba(X_test)[:,1] "
   ]
  },
  {
   "cell_type": "code",
   "execution_count": 35,
   "id": "47a406c5",
   "metadata": {
    "execution": {
     "iopub.execute_input": "2021-07-28T08:13:19.909627Z",
     "iopub.status.busy": "2021-07-28T08:13:19.908866Z",
     "iopub.status.idle": "2021-07-28T08:13:19.913347Z",
     "shell.execute_reply": "2021-07-28T08:13:19.912788Z"
    },
    "papermill": {
     "duration": 0.059051,
     "end_time": "2021-07-28T08:13:19.913491",
     "exception": false,
     "start_time": "2021-07-28T08:13:19.854440",
     "status": "completed"
    },
    "tags": []
   },
   "outputs": [
    {
     "data": {
      "text/html": [
       "<div>\n",
       "<style scoped>\n",
       "    .dataframe tbody tr th:only-of-type {\n",
       "        vertical-align: middle;\n",
       "    }\n",
       "\n",
       "    .dataframe tbody tr th {\n",
       "        vertical-align: top;\n",
       "    }\n",
       "\n",
       "    .dataframe thead th {\n",
       "        text-align: right;\n",
       "    }\n",
       "</style>\n",
       "<table border=\"1\" class=\"dataframe\">\n",
       "  <thead>\n",
       "    <tr style=\"text-align: right;\">\n",
       "      <th></th>\n",
       "      <th>PassengerId</th>\n",
       "      <th>Survived</th>\n",
       "    </tr>\n",
       "  </thead>\n",
       "  <tbody>\n",
       "    <tr>\n",
       "      <th>0</th>\n",
       "      <td>892</td>\n",
       "      <td>0.102021</td>\n",
       "    </tr>\n",
       "    <tr>\n",
       "      <th>1</th>\n",
       "      <td>893</td>\n",
       "      <td>0.593544</td>\n",
       "    </tr>\n",
       "    <tr>\n",
       "      <th>2</th>\n",
       "      <td>894</td>\n",
       "      <td>0.224759</td>\n",
       "    </tr>\n",
       "    <tr>\n",
       "      <th>3</th>\n",
       "      <td>895</td>\n",
       "      <td>0.102021</td>\n",
       "    </tr>\n",
       "    <tr>\n",
       "      <th>4</th>\n",
       "      <td>896</td>\n",
       "      <td>0.593544</td>\n",
       "    </tr>\n",
       "    <tr>\n",
       "      <th>...</th>\n",
       "      <td>...</td>\n",
       "      <td>...</td>\n",
       "    </tr>\n",
       "    <tr>\n",
       "      <th>413</th>\n",
       "      <td>1305</td>\n",
       "      <td>0.102021</td>\n",
       "    </tr>\n",
       "    <tr>\n",
       "      <th>414</th>\n",
       "      <td>1306</td>\n",
       "      <td>0.904848</td>\n",
       "    </tr>\n",
       "    <tr>\n",
       "      <th>415</th>\n",
       "      <td>1307</td>\n",
       "      <td>0.102021</td>\n",
       "    </tr>\n",
       "    <tr>\n",
       "      <th>416</th>\n",
       "      <td>1308</td>\n",
       "      <td>0.102021</td>\n",
       "    </tr>\n",
       "    <tr>\n",
       "      <th>417</th>\n",
       "      <td>1309</td>\n",
       "      <td>0.102021</td>\n",
       "    </tr>\n",
       "  </tbody>\n",
       "</table>\n",
       "<p>418 rows × 2 columns</p>\n",
       "</div>"
      ],
      "text/plain": [
       "     PassengerId  Survived\n",
       "0            892  0.102021\n",
       "1            893  0.593544\n",
       "2            894  0.224759\n",
       "3            895  0.102021\n",
       "4            896  0.593544\n",
       "..           ...       ...\n",
       "413         1305  0.102021\n",
       "414         1306  0.904848\n",
       "415         1307  0.102021\n",
       "416         1308  0.102021\n",
       "417         1309  0.102021\n",
       "\n",
       "[418 rows x 2 columns]"
      ]
     },
     "execution_count": 35,
     "metadata": {},
     "output_type": "execute_result"
    }
   ],
   "source": [
    "submission['Survived']=lr_pred\n",
    "submission"
   ]
  },
  {
   "cell_type": "code",
   "execution_count": 36,
   "id": "954ba448",
   "metadata": {
    "execution": {
     "iopub.execute_input": "2021-07-28T08:13:20.001997Z",
     "iopub.status.busy": "2021-07-28T08:13:20.001363Z",
     "iopub.status.idle": "2021-07-28T08:13:20.009623Z",
     "shell.execute_reply": "2021-07-28T08:13:20.008941Z"
    },
    "id": "-3sTUY2wYMqL",
    "papermill": {
     "duration": 0.054444,
     "end_time": "2021-07-28T08:13:20.009764",
     "exception": false,
     "start_time": "2021-07-28T08:13:19.955320",
     "status": "completed"
    },
    "tags": []
   },
   "outputs": [],
   "source": [
    "submission.to_csv('logistic_regression_pred.csv',index=False) #False 안하면 행을 나타내는 인덱스가 같이 저장됨"
   ]
  },
  {
   "cell_type": "code",
   "execution_count": 37,
   "id": "0449ceae",
   "metadata": {
    "execution": {
     "iopub.execute_input": "2021-07-28T08:13:20.106737Z",
     "iopub.status.busy": "2021-07-28T08:13:20.106024Z",
     "iopub.status.idle": "2021-07-28T08:13:20.109998Z",
     "shell.execute_reply": "2021-07-28T08:13:20.110469Z"
    },
    "id": "TwPQt6gaYbi7",
    "outputId": "8568eb2e-7529-421b-9784-edf0c833891a",
    "papermill": {
     "duration": 0.05856,
     "end_time": "2021-07-28T08:13:20.110651",
     "exception": false,
     "start_time": "2021-07-28T08:13:20.052091",
     "status": "completed"
    },
    "tags": []
   },
   "outputs": [
    {
     "data": {
      "text/html": [
       "<div>\n",
       "<style scoped>\n",
       "    .dataframe tbody tr th:only-of-type {\n",
       "        vertical-align: middle;\n",
       "    }\n",
       "\n",
       "    .dataframe tbody tr th {\n",
       "        vertical-align: top;\n",
       "    }\n",
       "\n",
       "    .dataframe thead th {\n",
       "        text-align: right;\n",
       "    }\n",
       "</style>\n",
       "<table border=\"1\" class=\"dataframe\">\n",
       "  <thead>\n",
       "    <tr style=\"text-align: right;\">\n",
       "      <th></th>\n",
       "      <th>PassengerId</th>\n",
       "      <th>Survived</th>\n",
       "    </tr>\n",
       "  </thead>\n",
       "  <tbody>\n",
       "    <tr>\n",
       "      <th>0</th>\n",
       "      <td>892</td>\n",
       "      <td>0.135447</td>\n",
       "    </tr>\n",
       "    <tr>\n",
       "      <th>1</th>\n",
       "      <td>893</td>\n",
       "      <td>0.500000</td>\n",
       "    </tr>\n",
       "    <tr>\n",
       "      <th>2</th>\n",
       "      <td>894</td>\n",
       "      <td>0.157407</td>\n",
       "    </tr>\n",
       "    <tr>\n",
       "      <th>3</th>\n",
       "      <td>895</td>\n",
       "      <td>0.135447</td>\n",
       "    </tr>\n",
       "    <tr>\n",
       "      <th>4</th>\n",
       "      <td>896</td>\n",
       "      <td>0.500000</td>\n",
       "    </tr>\n",
       "    <tr>\n",
       "      <th>...</th>\n",
       "      <td>...</td>\n",
       "      <td>...</td>\n",
       "    </tr>\n",
       "    <tr>\n",
       "      <th>413</th>\n",
       "      <td>1305</td>\n",
       "      <td>0.135447</td>\n",
       "    </tr>\n",
       "    <tr>\n",
       "      <th>414</th>\n",
       "      <td>1306</td>\n",
       "      <td>0.968085</td>\n",
       "    </tr>\n",
       "    <tr>\n",
       "      <th>415</th>\n",
       "      <td>1307</td>\n",
       "      <td>0.135447</td>\n",
       "    </tr>\n",
       "    <tr>\n",
       "      <th>416</th>\n",
       "      <td>1308</td>\n",
       "      <td>0.135447</td>\n",
       "    </tr>\n",
       "    <tr>\n",
       "      <th>417</th>\n",
       "      <td>1309</td>\n",
       "      <td>0.135447</td>\n",
       "    </tr>\n",
       "  </tbody>\n",
       "</table>\n",
       "<p>418 rows × 2 columns</p>\n",
       "</div>"
      ],
      "text/plain": [
       "     PassengerId  Survived\n",
       "0            892  0.135447\n",
       "1            893  0.500000\n",
       "2            894  0.157407\n",
       "3            895  0.135447\n",
       "4            896  0.500000\n",
       "..           ...       ...\n",
       "413         1305  0.135447\n",
       "414         1306  0.968085\n",
       "415         1307  0.135447\n",
       "416         1308  0.135447\n",
       "417         1309  0.135447\n",
       "\n",
       "[418 rows x 2 columns]"
      ]
     },
     "execution_count": 37,
     "metadata": {},
     "output_type": "execute_result"
    }
   ],
   "source": [
    "submission['Survived']=dt_pred\n",
    "submission"
   ]
  },
  {
   "cell_type": "code",
   "execution_count": 38,
   "id": "abbb3834",
   "metadata": {
    "execution": {
     "iopub.execute_input": "2021-07-28T08:13:20.204150Z",
     "iopub.status.busy": "2021-07-28T08:13:20.203431Z",
     "iopub.status.idle": "2021-07-28T08:13:20.206557Z",
     "shell.execute_reply": "2021-07-28T08:13:20.205924Z"
    },
    "id": "5XN7bAtLYqfT",
    "papermill": {
     "duration": 0.053445,
     "end_time": "2021-07-28T08:13:20.206703",
     "exception": false,
     "start_time": "2021-07-28T08:13:20.153258",
     "status": "completed"
    },
    "tags": []
   },
   "outputs": [],
   "source": [
    "submission.to_csv('decision_tree_pred.csv',index=False)"
   ]
  }
 ],
 "metadata": {
  "kernelspec": {
   "display_name": "Python 3",
   "language": "python",
   "name": "python3"
  },
  "language_info": {
   "codemirror_mode": {
    "name": "ipython",
    "version": 3
   },
   "file_extension": ".py",
   "mimetype": "text/x-python",
   "name": "python",
   "nbconvert_exporter": "python",
   "pygments_lexer": "ipython3",
   "version": "3.7.10"
  },
  "papermill": {
   "default_parameters": {},
   "duration": 17.135155,
   "end_time": "2021-07-28T08:13:21.864505",
   "environment_variables": {},
   "exception": null,
   "input_path": "__notebook__.ipynb",
   "output_path": "__notebook__.ipynb",
   "parameters": {},
   "start_time": "2021-07-28T08:13:04.729350",
   "version": "2.3.3"
  }
 },
 "nbformat": 4,
 "nbformat_minor": 5
}
