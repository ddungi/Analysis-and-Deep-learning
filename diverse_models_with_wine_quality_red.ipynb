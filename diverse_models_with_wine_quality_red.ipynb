{
  "nbformat": 4,
  "nbformat_minor": 5,
  "metadata": {
    "kernelspec": {
      "display_name": "Python 3",
      "language": "python",
      "name": "python3"
    },
    "language_info": {
      "codemirror_mode": {
        "name": "ipython",
        "version": 3
      },
      "file_extension": ".py",
      "mimetype": "text/x-python",
      "name": "python",
      "nbconvert_exporter": "python",
      "pygments_lexer": "ipython3",
      "version": "3.7.10"
    },
    "papermill": {
      "default_parameters": {},
      "duration": 11.720024,
      "end_time": "2021-07-31T06:04:13.673878",
      "environment_variables": {},
      "exception": null,
      "input_path": "__notebook__.ipynb",
      "output_path": "__notebook__.ipynb",
      "parameters": {},
      "start_time": "2021-07-31T06:04:01.953854",
      "version": "2.3.3"
    },
    "colab": {
      "name": "diverse-models-with-wine-quality-red.ipynb",
      "provenance": [],
      "include_colab_link": true
    }
  },
  "cells": [
    {
      "cell_type": "markdown",
      "metadata": {
        "id": "view-in-github",
        "colab_type": "text"
      },
      "source": [
        "<a href=\"https://colab.research.google.com/github/ddungi/study_python/blob/main/diverse_models_with_wine_quality_red.ipynb\" target=\"_parent\"><img src=\"https://colab.research.google.com/assets/colab-badge.svg\" alt=\"Open In Colab\"/></a>"
      ]
    },
    {
      "cell_type": "code",
      "metadata": {
        "_cell_guid": "b1076dfc-b9ad-4769-8c92-a6c4dae69d19",
        "_uuid": "8f2839f25d086af736a60e9eeb907d3b93b6e0e5",
        "execution": {
          "iopub.execute_input": "2021-07-31T06:04:09.048142Z",
          "iopub.status.busy": "2021-07-31T06:04:09.047557Z",
          "iopub.status.idle": "2021-07-31T06:04:09.060953Z",
          "shell.execute_reply": "2021-07-31T06:04:09.060186Z"
        },
        "papermill": {
          "duration": 0.036984,
          "end_time": "2021-07-31T06:04:09.061122",
          "exception": false,
          "start_time": "2021-07-31T06:04:09.024138",
          "status": "completed"
        },
        "tags": [],
        "id": "f5fd7eb7",
        "outputId": "fa513592-5aae-4560-f658-1489e730f1a0"
      },
      "source": [
        "# This Python 3 environment comes with many helpful analytics libraries installed\n",
        "# It is defined by the kaggle/python Docker image: https://github.com/kaggle/docker-python\n",
        "# For example, here's several helpful packages to load\n",
        "\n",
        "import numpy as np # linear algebra\n",
        "import pandas as pd # data processing, CSV file I/O (e.g. pd.read_csv)\n",
        "\n",
        "# Input data files are available in the read-only \"../input/\" directory\n",
        "# For example, running this (by clicking run or pressing Shift+Enter) will list all files under the input directory\n",
        "\n",
        "import os\n",
        "for dirname, _, filenames in os.walk('/kaggle/input'):\n",
        "    for filename in filenames:\n",
        "        print(os.path.join(dirname, filename))\n",
        "\n",
        "# You can write up to 20GB to the current directory (/kaggle/working/) that gets preserved as output when you create a version using \"Save & Run All\" \n",
        "# You can also write temporary files to /kaggle/temp/, but they won't be saved outside of the current session"
      ],
      "id": "f5fd7eb7",
      "execution_count": null,
      "outputs": [
        {
          "output_type": "stream",
          "text": [
            "/kaggle/input/wine-quality-red/winequality-red.csv\n"
          ],
          "name": "stdout"
        }
      ]
    },
    {
      "cell_type": "code",
      "metadata": {
        "execution": {
          "iopub.execute_input": "2021-07-31T06:04:09.095469Z",
          "iopub.status.busy": "2021-07-31T06:04:09.094821Z",
          "iopub.status.idle": "2021-07-31T06:04:10.444949Z",
          "shell.execute_reply": "2021-07-31T06:04:10.444326Z",
          "shell.execute_reply.started": "2021-07-31T05:54:21.245880Z"
        },
        "papermill": {
          "duration": 1.369002,
          "end_time": "2021-07-31T06:04:10.445093",
          "exception": false,
          "start_time": "2021-07-31T06:04:09.076091",
          "status": "completed"
        },
        "tags": [],
        "id": "c537e84c"
      },
      "source": [
        "\n",
        "## 기본 패키지 모음\n",
        "import numpy as np\n",
        "import pandas as pd\n",
        "import matplotlib.pyplot as plt #시각화\n",
        "import seaborn as sns\n",
        " \n",
        "## 전처리 및 모델링 준비를 위한 패키지\n",
        "from sklearn.preprocessing import StandardScaler, LabelEncoder\n",
        "from sklearn.model_selection import train_test_split\n",
        "\n",
        "\n",
        "## 실제 모델링을 위한 패키지\n",
        "\n",
        "from sklearn.ensemble import RandomForestClassifier\n",
        "#기본 결정트리는 해당 데이터에 대해 맞춰서 분류를 진행한 것이어서 과적합 문제 발생\n",
        "#앙상블 기법으로 고안된 것이 랜덤포레스트\n",
        "#특정 특성을 선택하는 다수의 결정 트리로 회귀의 결과도출에 사용\n",
        "#대표적인 배깅 모델\n",
        "\n",
        "from sklearn.linear_model import LogisticRegression\n",
        "#이진 분류 수행하는데 사용됨\n",
        "#각 features 계수 log-odds를 구한 후 sigmoid 함수 적용하여 해당 클래스가 속할 확률을 0~1 사이 값으로 나타냄\n",
        "\n",
        "from sklearn.svm import SVC\n",
        "#분류 과제 사용, 결정 경계(Decision Boundary), 즉 분류를 위한 기준 선을 정의하는 모델\n",
        "#파라미터 c /디폴트 1/ 클수록 하드마진(오류 허용 안함),작을수록 소프르마진(오류를 허용함)\n",
        "\n",
        "from sklearn import tree\n",
        "#Decision Tree는 overfitting될 가능성이 높다는 약점이 있다.\n",
        "#이를 보완하기 위한 것이 랜덤포레스트의 기원이 되는 아이디어.\n",
        "\n",
        "from sklearn.neighbors import KNeighborsClassifier\n",
        "# k-최근접 이웃을 활용한 분류\n",
        "#분류를 알 수 없는 데이터에 대해 가장 가까운 이웃 k개의 분류를 확인하여 다수결을 할 수 있다.\n",
        "\n",
        "from sklearn.naive_bayes import GaussianNB\n",
        "#각 피처가 독립이라고 가정하고 예측\n",
        "#베이즈 정리에 기반,\n",
        "#사후확률(일종의 조건부 결합확률)의 계산 시 조건부 독립을 가정하여 계산을 단순화한 방법이다.\n",
        "\n",
        "from sklearn.metrics import classification_report\n",
        "from sklearn import metrics #모델 평가\n",
        "\n",
        "col=['fixed acidity',\"volatile acidity\",\"citric acid\",\"residual sugar\",\"chlorides\",\"free sulfur dioxide\",\"total sulfur\",'density','pH','sulphates','alcohol','quality']\n",
        "df = pd.read_csv('../input/wine-quality-red/winequality-red.csv', sep=';',header=1,names=col)\n"
      ],
      "id": "c537e84c",
      "execution_count": null,
      "outputs": []
    },
    {
      "cell_type": "code",
      "metadata": {
        "execution": {
          "iopub.execute_input": "2021-07-31T06:04:10.489022Z",
          "iopub.status.busy": "2021-07-31T06:04:10.488086Z",
          "iopub.status.idle": "2021-07-31T06:04:10.514436Z",
          "shell.execute_reply": "2021-07-31T06:04:10.513932Z",
          "shell.execute_reply.started": "2021-07-31T04:40:37.102662Z"
        },
        "papermill": {
          "duration": 0.05128,
          "end_time": "2021-07-31T06:04:10.514573",
          "exception": false,
          "start_time": "2021-07-31T06:04:10.463293",
          "status": "completed"
        },
        "tags": [],
        "id": "23b507b3",
        "outputId": "f01f5abd-da49-4420-b305-8b6f4b370b8e"
      },
      "source": [
        "df.head()"
      ],
      "id": "23b507b3",
      "execution_count": null,
      "outputs": [
        {
          "output_type": "execute_result",
          "data": {
            "text/html": [
              "<div>\n",
              "<style scoped>\n",
              "    .dataframe tbody tr th:only-of-type {\n",
              "        vertical-align: middle;\n",
              "    }\n",
              "\n",
              "    .dataframe tbody tr th {\n",
              "        vertical-align: top;\n",
              "    }\n",
              "\n",
              "    .dataframe thead th {\n",
              "        text-align: right;\n",
              "    }\n",
              "</style>\n",
              "<table border=\"1\" class=\"dataframe\">\n",
              "  <thead>\n",
              "    <tr style=\"text-align: right;\">\n",
              "      <th></th>\n",
              "      <th>fixed acidity</th>\n",
              "      <th>volatile acidity</th>\n",
              "      <th>citric acid</th>\n",
              "      <th>residual sugar</th>\n",
              "      <th>chlorides</th>\n",
              "      <th>free sulfur dioxide</th>\n",
              "      <th>total sulfur</th>\n",
              "      <th>density</th>\n",
              "      <th>pH</th>\n",
              "      <th>sulphates</th>\n",
              "      <th>alcohol</th>\n",
              "      <th>quality</th>\n",
              "    </tr>\n",
              "  </thead>\n",
              "  <tbody>\n",
              "    <tr>\n",
              "      <th>0</th>\n",
              "      <td>7.8</td>\n",
              "      <td>0.88</td>\n",
              "      <td>0.00</td>\n",
              "      <td>2.6</td>\n",
              "      <td>0.098</td>\n",
              "      <td>25.0</td>\n",
              "      <td>67.0</td>\n",
              "      <td>0.9968</td>\n",
              "      <td>3.20</td>\n",
              "      <td>0.68</td>\n",
              "      <td>9.8</td>\n",
              "      <td>5</td>\n",
              "    </tr>\n",
              "    <tr>\n",
              "      <th>1</th>\n",
              "      <td>7.8</td>\n",
              "      <td>0.76</td>\n",
              "      <td>0.04</td>\n",
              "      <td>2.3</td>\n",
              "      <td>0.092</td>\n",
              "      <td>15.0</td>\n",
              "      <td>54.0</td>\n",
              "      <td>0.9970</td>\n",
              "      <td>3.26</td>\n",
              "      <td>0.65</td>\n",
              "      <td>9.8</td>\n",
              "      <td>5</td>\n",
              "    </tr>\n",
              "    <tr>\n",
              "      <th>2</th>\n",
              "      <td>11.2</td>\n",
              "      <td>0.28</td>\n",
              "      <td>0.56</td>\n",
              "      <td>1.9</td>\n",
              "      <td>0.075</td>\n",
              "      <td>17.0</td>\n",
              "      <td>60.0</td>\n",
              "      <td>0.9980</td>\n",
              "      <td>3.16</td>\n",
              "      <td>0.58</td>\n",
              "      <td>9.8</td>\n",
              "      <td>6</td>\n",
              "    </tr>\n",
              "    <tr>\n",
              "      <th>3</th>\n",
              "      <td>7.4</td>\n",
              "      <td>0.70</td>\n",
              "      <td>0.00</td>\n",
              "      <td>1.9</td>\n",
              "      <td>0.076</td>\n",
              "      <td>11.0</td>\n",
              "      <td>34.0</td>\n",
              "      <td>0.9978</td>\n",
              "      <td>3.51</td>\n",
              "      <td>0.56</td>\n",
              "      <td>9.4</td>\n",
              "      <td>5</td>\n",
              "    </tr>\n",
              "    <tr>\n",
              "      <th>4</th>\n",
              "      <td>7.4</td>\n",
              "      <td>0.66</td>\n",
              "      <td>0.00</td>\n",
              "      <td>1.8</td>\n",
              "      <td>0.075</td>\n",
              "      <td>13.0</td>\n",
              "      <td>40.0</td>\n",
              "      <td>0.9978</td>\n",
              "      <td>3.51</td>\n",
              "      <td>0.56</td>\n",
              "      <td>9.4</td>\n",
              "      <td>5</td>\n",
              "    </tr>\n",
              "  </tbody>\n",
              "</table>\n",
              "</div>"
            ],
            "text/plain": [
              "   fixed acidity  volatile acidity  citric acid  residual sugar  chlorides  \\\n",
              "0            7.8              0.88         0.00             2.6      0.098   \n",
              "1            7.8              0.76         0.04             2.3      0.092   \n",
              "2           11.2              0.28         0.56             1.9      0.075   \n",
              "3            7.4              0.70         0.00             1.9      0.076   \n",
              "4            7.4              0.66         0.00             1.8      0.075   \n",
              "\n",
              "   free sulfur dioxide  total sulfur  density    pH  sulphates  alcohol  \\\n",
              "0                 25.0          67.0   0.9968  3.20       0.68      9.8   \n",
              "1                 15.0          54.0   0.9970  3.26       0.65      9.8   \n",
              "2                 17.0          60.0   0.9980  3.16       0.58      9.8   \n",
              "3                 11.0          34.0   0.9978  3.51       0.56      9.4   \n",
              "4                 13.0          40.0   0.9978  3.51       0.56      9.4   \n",
              "\n",
              "   quality  \n",
              "0        5  \n",
              "1        5  \n",
              "2        6  \n",
              "3        5  \n",
              "4        5  "
            ]
          },
          "metadata": {
            "tags": []
          },
          "execution_count": 3
        }
      ]
    },
    {
      "cell_type": "code",
      "metadata": {
        "execution": {
          "iopub.execute_input": "2021-07-31T06:04:10.543961Z",
          "iopub.status.busy": "2021-07-31T06:04:10.543067Z",
          "iopub.status.idle": "2021-07-31T06:04:10.562338Z",
          "shell.execute_reply": "2021-07-31T06:04:10.561735Z",
          "shell.execute_reply.started": "2021-07-31T05:54:26.171256Z"
        },
        "papermill": {
          "duration": 0.034864,
          "end_time": "2021-07-31T06:04:10.562497",
          "exception": false,
          "start_time": "2021-07-31T06:04:10.527633",
          "status": "completed"
        },
        "tags": [],
        "id": "fa77812f",
        "outputId": "1654ebdf-82d6-4da7-dfa7-d2478e9e74f7"
      },
      "source": [
        "df.info()"
      ],
      "id": "fa77812f",
      "execution_count": null,
      "outputs": [
        {
          "output_type": "stream",
          "text": [
            "<class 'pandas.core.frame.DataFrame'>\n",
            "RangeIndex: 1598 entries, 0 to 1597\n",
            "Data columns (total 12 columns):\n",
            " #   Column               Non-Null Count  Dtype  \n",
            "---  ------               --------------  -----  \n",
            " 0   fixed acidity        1598 non-null   float64\n",
            " 1   volatile acidity     1598 non-null   float64\n",
            " 2   citric acid          1598 non-null   float64\n",
            " 3   residual sugar       1598 non-null   float64\n",
            " 4   chlorides            1598 non-null   float64\n",
            " 5   free sulfur dioxide  1598 non-null   float64\n",
            " 6   total sulfur         1598 non-null   float64\n",
            " 7   density              1598 non-null   float64\n",
            " 8   pH                   1598 non-null   float64\n",
            " 9   sulphates            1598 non-null   float64\n",
            " 10  alcohol              1598 non-null   float64\n",
            " 11  quality              1598 non-null   int64  \n",
            "dtypes: float64(11), int64(1)\n",
            "memory usage: 149.9 KB\n"
          ],
          "name": "stdout"
        }
      ]
    },
    {
      "cell_type": "code",
      "metadata": {
        "execution": {
          "iopub.execute_input": "2021-07-31T06:04:10.596516Z",
          "iopub.status.busy": "2021-07-31T06:04:10.595411Z",
          "iopub.status.idle": "2021-07-31T06:04:10.598851Z",
          "shell.execute_reply": "2021-07-31T06:04:10.599302Z",
          "shell.execute_reply.started": "2021-07-31T05:54:29.690570Z"
        },
        "papermill": {
          "duration": 0.023604,
          "end_time": "2021-07-31T06:04:10.599486",
          "exception": false,
          "start_time": "2021-07-31T06:04:10.575882",
          "status": "completed"
        },
        "tags": [],
        "id": "292022a3"
      },
      "source": [
        "bins=(2,6.5,8) #범주화\n",
        "group_names=['bad','good']\n",
        "df['quality']=pd.cut(df['quality'],bins=bins,labels=group_names)"
      ],
      "id": "292022a3",
      "execution_count": null,
      "outputs": []
    },
    {
      "cell_type": "code",
      "metadata": {
        "execution": {
          "iopub.execute_input": "2021-07-31T06:04:10.629642Z",
          "iopub.status.busy": "2021-07-31T06:04:10.628990Z",
          "iopub.status.idle": "2021-07-31T06:04:10.634729Z",
          "shell.execute_reply": "2021-07-31T06:04:10.634122Z",
          "shell.execute_reply.started": "2021-07-31T05:57:47.356340Z"
        },
        "papermill": {
          "duration": 0.021901,
          "end_time": "2021-07-31T06:04:10.634870",
          "exception": false,
          "start_time": "2021-07-31T06:04:10.612969",
          "status": "completed"
        },
        "tags": [],
        "id": "72100d80"
      },
      "source": [
        "label_quality=LabelEncoder() #범주화를 더미함수화\n",
        "df['quality']=label_quality.fit_transform(df['quality'])"
      ],
      "id": "72100d80",
      "execution_count": null,
      "outputs": []
    },
    {
      "cell_type": "code",
      "metadata": {
        "execution": {
          "iopub.execute_input": "2021-07-31T06:04:10.668549Z",
          "iopub.status.busy": "2021-07-31T06:04:10.667727Z",
          "iopub.status.idle": "2021-07-31T06:04:10.671134Z",
          "shell.execute_reply": "2021-07-31T06:04:10.671665Z",
          "shell.execute_reply.started": "2021-07-31T05:57:50.882862Z"
        },
        "papermill": {
          "duration": 0.02383,
          "end_time": "2021-07-31T06:04:10.671991",
          "exception": false,
          "start_time": "2021-07-31T06:04:10.648161",
          "status": "completed"
        },
        "tags": [],
        "id": "55c30985",
        "outputId": "79dfbc6e-5f23-4f52-8c02-4eb91484a5f8"
      },
      "source": [
        "df['quality'].value_counts()"
      ],
      "id": "55c30985",
      "execution_count": null,
      "outputs": [
        {
          "output_type": "execute_result",
          "data": {
            "text/plain": [
              "0    1381\n",
              "1     217\n",
              "Name: quality, dtype: int64"
            ]
          },
          "metadata": {
            "tags": []
          },
          "execution_count": 7
        }
      ]
    },
    {
      "cell_type": "code",
      "metadata": {
        "execution": {
          "iopub.execute_input": "2021-07-31T06:04:10.703424Z",
          "iopub.status.busy": "2021-07-31T06:04:10.702479Z",
          "iopub.status.idle": "2021-07-31T06:04:10.707647Z",
          "shell.execute_reply": "2021-07-31T06:04:10.708105Z",
          "shell.execute_reply.started": "2021-07-31T05:58:13.063481Z"
        },
        "papermill": {
          "duration": 0.022243,
          "end_time": "2021-07-31T06:04:10.708296",
          "exception": false,
          "start_time": "2021-07-31T06:04:10.686053",
          "status": "completed"
        },
        "tags": [],
        "id": "c113b812"
      },
      "source": [
        "x=df.drop('quality',axis=1)\n",
        "y=df['quality']"
      ],
      "id": "c113b812",
      "execution_count": null,
      "outputs": []
    },
    {
      "cell_type": "code",
      "metadata": {
        "execution": {
          "iopub.execute_input": "2021-07-31T06:04:10.738851Z",
          "iopub.status.busy": "2021-07-31T06:04:10.737930Z",
          "iopub.status.idle": "2021-07-31T06:04:10.745020Z",
          "shell.execute_reply": "2021-07-31T06:04:10.745480Z",
          "shell.execute_reply.started": "2021-07-31T05:58:13.625179Z"
        },
        "papermill": {
          "duration": 0.02376,
          "end_time": "2021-07-31T06:04:10.745657",
          "exception": false,
          "start_time": "2021-07-31T06:04:10.721897",
          "status": "completed"
        },
        "tags": [],
        "id": "8010e8e9"
      },
      "source": [
        "x_train,x_test,y_train,y_test =train_test_split(x,y,test_size=0.2,random_state=42)"
      ],
      "id": "8010e8e9",
      "execution_count": null,
      "outputs": []
    },
    {
      "cell_type": "code",
      "metadata": {
        "execution": {
          "iopub.execute_input": "2021-07-31T06:04:10.776103Z",
          "iopub.status.busy": "2021-07-31T06:04:10.775175Z",
          "iopub.status.idle": "2021-07-31T06:04:10.786800Z",
          "shell.execute_reply": "2021-07-31T06:04:10.787229Z",
          "shell.execute_reply.started": "2021-07-31T05:58:14.272691Z"
        },
        "papermill": {
          "duration": 0.028231,
          "end_time": "2021-07-31T06:04:10.787421",
          "exception": false,
          "start_time": "2021-07-31T06:04:10.759190",
          "status": "completed"
        },
        "tags": [],
        "id": "15169256"
      },
      "source": [
        "sc=StandardScaler() #표준화\n",
        "x_train=sc.fit_transform(x_train)\n",
        "x_test=sc.fit_transform(x_test)"
      ],
      "id": "15169256",
      "execution_count": null,
      "outputs": []
    },
    {
      "cell_type": "code",
      "metadata": {
        "execution": {
          "iopub.execute_input": "2021-07-31T06:04:10.817838Z",
          "iopub.status.busy": "2021-07-31T06:04:10.816893Z",
          "iopub.status.idle": "2021-07-31T06:04:10.824475Z",
          "shell.execute_reply": "2021-07-31T06:04:10.823809Z",
          "shell.execute_reply.started": "2021-07-31T05:58:14.961834Z"
        },
        "papermill": {
          "duration": 0.023819,
          "end_time": "2021-07-31T06:04:10.824620",
          "exception": false,
          "start_time": "2021-07-31T06:04:10.800801",
          "status": "completed"
        },
        "tags": [],
        "id": "1f9527c6"
      },
      "source": [
        "#변수중요도 시각화 함수\n",
        "def plot_feature_importance(model, X_train, figsize=(12, 6)):\n",
        "\n",
        "    sns.set_style('darkgrid')\n",
        "\n",
        "   # Plot feature importance\n",
        "\n",
        "    feature_importance = model.feature_importances_\n",
        "\n",
        "    feature_importance = 100.0 * (feature_importance / feature_importance.max())\n",
        "\n",
        "    sorted_idx = np.argsort(feature_importance)\n",
        "\n",
        "    pos = np.arange(sorted_idx.shape[0]) + .5\n",
        "\n",
        "\n",
        "\n",
        "    plt.figure(figsize=figsize)\n",
        "\n",
        "    plt.barh(pos, feature_importance[sorted_idx], align='center')\n",
        "\n",
        "    plt.yticks(pos, X_train.columns[sorted_idx])\n",
        "\n",
        "    plt.xlabel('Relative Importance')\n",
        "\n",
        "    plt.title('Variable Importance')\n",
        "\n",
        "    plt.show()"
      ],
      "id": "1f9527c6",
      "execution_count": null,
      "outputs": []
    },
    {
      "cell_type": "code",
      "metadata": {
        "execution": {
          "iopub.execute_input": "2021-07-31T06:04:10.857919Z",
          "iopub.status.busy": "2021-07-31T06:04:10.856987Z",
          "iopub.status.idle": "2021-07-31T06:04:11.436259Z",
          "shell.execute_reply": "2021-07-31T06:04:11.435694Z",
          "shell.execute_reply.started": "2021-07-31T05:58:16.030469Z"
        },
        "papermill": {
          "duration": 0.598264,
          "end_time": "2021-07-31T06:04:11.436398",
          "exception": false,
          "start_time": "2021-07-31T06:04:10.838134",
          "status": "completed"
        },
        "tags": [],
        "id": "db4e80a5",
        "outputId": "fc818365-d514-4cc1-df0e-5d9ad76193c6"
      },
      "source": [
        "#랜덤포레스트\n",
        "rfc=RandomForestClassifier(n_estimators=200)\n",
        "\n",
        "rfc.fit(x_train,y_train)\n",
        "\n",
        "pred_rfc=rfc.predict(x_test)\n",
        "\n",
        "print(classification_report(y_test,pred_rfc))\n",
        "\n",
        "print(\"Accuracy:\", metrics.accuracy_score(y_test, pred_rfc))\n",
        "print(\"Precision:\", metrics.precision_score(y_test, pred_rfc))\n",
        "print(\"Recall:\", metrics.recall_score(y_test, pred_rfc))"
      ],
      "id": "db4e80a5",
      "execution_count": null,
      "outputs": [
        {
          "output_type": "stream",
          "text": [
            "              precision    recall  f1-score   support\n",
            "\n",
            "           0       0.92      0.97      0.94       278\n",
            "           1       0.67      0.43      0.52        42\n",
            "\n",
            "    accuracy                           0.90       320\n",
            "   macro avg       0.79      0.70      0.73       320\n",
            "weighted avg       0.89      0.90      0.89       320\n",
            "\n",
            "Accuracy: 0.896875\n",
            "Precision: 0.6666666666666666\n",
            "Recall: 0.42857142857142855\n"
          ],
          "name": "stdout"
        }
      ]
    },
    {
      "cell_type": "code",
      "metadata": {
        "execution": {
          "iopub.execute_input": "2021-07-31T06:04:11.474107Z",
          "iopub.status.busy": "2021-07-31T06:04:11.472659Z",
          "iopub.status.idle": "2021-07-31T06:04:11.717529Z",
          "shell.execute_reply": "2021-07-31T06:04:11.717017Z",
          "shell.execute_reply.started": "2021-07-31T05:58:17.728970Z"
        },
        "papermill": {
          "duration": 0.267497,
          "end_time": "2021-07-31T06:04:11.717664",
          "exception": false,
          "start_time": "2021-07-31T06:04:11.450167",
          "status": "completed"
        },
        "tags": [],
        "id": "3487968d",
        "outputId": "c6a8432f-7813-4b8d-ca75-ace971f51f8b"
      },
      "source": [
        "\n",
        "plot_feature_importance(rfc,x)"
      ],
      "id": "3487968d",
      "execution_count": null,
      "outputs": [
        {
          "output_type": "display_data",
          "data": {
            "image/png": "[encoded data removed]",
            "text/plain": [
              "<Figure size 864x432 with 1 Axes>"
            ]
          },
          "metadata": {
            "tags": []
          }
        }
      ]
    },
    {
      "cell_type": "code",
      "metadata": {
        "execution": {
          "iopub.execute_input": "2021-07-31T06:04:11.753026Z",
          "iopub.status.busy": "2021-07-31T06:04:11.752158Z",
          "iopub.status.idle": "2021-07-31T06:04:11.797919Z",
          "shell.execute_reply": "2021-07-31T06:04:11.798374Z",
          "shell.execute_reply.started": "2021-07-31T05:58:19.160624Z"
        },
        "papermill": {
          "duration": 0.066043,
          "end_time": "2021-07-31T06:04:11.798554",
          "exception": false,
          "start_time": "2021-07-31T06:04:11.732511",
          "status": "completed"
        },
        "tags": [],
        "id": "05d76416",
        "outputId": "36443034-abe4-4c4c-e0e1-31d12dcb7780"
      },
      "source": [
        "#SVC 모델 \n",
        "svc=SVC()\n",
        "svc.fit(x_train,y_train)\n",
        "pred_svc=svc.predict(x_test)\n",
        "print(classification_report(y_test, pred_svc))\n",
        "print(\"Accuracy:\", metrics.accuracy_score(y_test, pred_svc))\n",
        "print(\"Precision:\", metrics.precision_score(y_test, pred_svc))\n",
        "print(\"Recall:\", metrics.recall_score(y_test, pred_svc))"
      ],
      "id": "05d76416",
      "execution_count": null,
      "outputs": [
        {
          "output_type": "stream",
          "text": [
            "              precision    recall  f1-score   support\n",
            "\n",
            "           0       0.90      0.98      0.94       278\n",
            "           1       0.67      0.24      0.35        42\n",
            "\n",
            "    accuracy                           0.88       320\n",
            "   macro avg       0.78      0.61      0.64       320\n",
            "weighted avg       0.87      0.88      0.86       320\n",
            "\n",
            "Accuracy: 0.884375\n",
            "Precision: 0.6666666666666666\n",
            "Recall: 0.23809523809523808\n"
          ],
          "name": "stdout"
        }
      ]
    },
    {
      "cell_type": "code",
      "metadata": {
        "execution": {
          "iopub.execute_input": "2021-07-31T06:04:11.833934Z",
          "iopub.status.busy": "2021-07-31T06:04:11.833282Z",
          "iopub.status.idle": "2021-07-31T06:04:12.074635Z",
          "shell.execute_reply": "2021-07-31T06:04:12.075793Z",
          "shell.execute_reply.started": "2021-07-31T05:58:19.972231Z"
        },
        "papermill": {
          "duration": 0.262275,
          "end_time": "2021-07-31T06:04:12.076063",
          "exception": false,
          "start_time": "2021-07-31T06:04:11.813788",
          "status": "completed"
        },
        "tags": [],
        "id": "1733c1f2",
        "outputId": "e168613c-9b53-4046-bdb6-9b5e200aaf19"
      },
      "source": [
        "#로지스틱 회귀\n",
        "\n",
        "lr=LogisticRegression()\n",
        "lr.fit(x_train,y_train)\n",
        "pred_lr=lr.predict(x_test)\n",
        "print(classification_report(y_test,pred_lr))\n",
        "print(\"Accuracy:\", metrics.accuracy_score(y_test, pred_lr))\n",
        "print(\"Precision:\", metrics.precision_score(y_test, pred_lr))\n",
        "print(\"Recall:\", metrics.recall_score(y_test, pred_lr))"
      ],
      "id": "1733c1f2",
      "execution_count": null,
      "outputs": [
        {
          "output_type": "stream",
          "text": [
            "              precision    recall  f1-score   support\n",
            "\n",
            "           0       0.89      0.96      0.93       278\n",
            "           1       0.48      0.24      0.32        42\n",
            "\n",
            "    accuracy                           0.87       320\n",
            "   macro avg       0.68      0.60      0.62       320\n",
            "weighted avg       0.84      0.87      0.85       320\n",
            "\n",
            "Accuracy: 0.865625\n",
            "Precision: 0.47619047619047616\n",
            "Recall: 0.23809523809523808\n"
          ],
          "name": "stdout"
        }
      ]
    },
    {
      "cell_type": "code",
      "metadata": {
        "execution": {
          "iopub.execute_input": "2021-07-31T06:04:12.155802Z",
          "iopub.status.busy": "2021-07-31T06:04:12.154814Z",
          "iopub.status.idle": "2021-07-31T06:04:12.175955Z",
          "shell.execute_reply": "2021-07-31T06:04:12.176634Z",
          "shell.execute_reply.started": "2021-07-31T05:58:20.809654Z"
        },
        "papermill": {
          "duration": 0.070369,
          "end_time": "2021-07-31T06:04:12.176882",
          "exception": false,
          "start_time": "2021-07-31T06:04:12.106513",
          "status": "completed"
        },
        "tags": [],
        "id": "2eadba2a",
        "outputId": "f8d449df-3f1d-466a-8622-092b2b4fd302"
      },
      "source": [
        "##결정나무 모델\n",
        "dt=tree.DecisionTreeClassifier()\n",
        "dt.fit(x_train,y_train)\n",
        "pred_dt=dt.predict(x_test)\n",
        "print(classification_report(y_test,pred_dt))\n",
        "print(\"Accuracy:\", metrics.accuracy_score(y_test, pred_dt))\n",
        "print(\"Precision:\", metrics.precision_score(y_test, pred_dt))\n",
        "print(\"Recall:\", metrics.recall_score(y_test, pred_dt))"
      ],
      "id": "2eadba2a",
      "execution_count": null,
      "outputs": [
        {
          "output_type": "stream",
          "text": [
            "              precision    recall  f1-score   support\n",
            "\n",
            "           0       0.93      0.91      0.92       278\n",
            "           1       0.50      0.57      0.53        42\n",
            "\n",
            "    accuracy                           0.87       320\n",
            "   macro avg       0.72      0.74      0.73       320\n",
            "weighted avg       0.88      0.87      0.87       320\n",
            "\n",
            "Accuracy: 0.86875\n",
            "Precision: 0.5\n",
            "Recall: 0.5714285714285714\n"
          ],
          "name": "stdout"
        }
      ]
    },
    {
      "cell_type": "code",
      "metadata": {
        "execution": {
          "iopub.execute_input": "2021-07-31T06:04:12.211646Z",
          "iopub.status.busy": "2021-07-31T06:04:12.211005Z",
          "iopub.status.idle": "2021-07-31T06:04:12.246961Z",
          "shell.execute_reply": "2021-07-31T06:04:12.246233Z",
          "shell.execute_reply.started": "2021-07-31T05:58:21.431930Z"
        },
        "papermill": {
          "duration": 0.054279,
          "end_time": "2021-07-31T06:04:12.247149",
          "exception": false,
          "start_time": "2021-07-31T06:04:12.192870",
          "status": "completed"
        },
        "tags": [],
        "id": "c88bde0a",
        "outputId": "067f6a03-36e4-49dc-aac5-98b35a206d6c"
      },
      "source": [
        "#knn 모델\n",
        "knn=KNeighborsClassifier(5)\n",
        "knn.fit(x_train,y_train)\n",
        "pred_knn=knn.predict(x_test)\n",
        "print(classification_report(y_test,pred_knn))\n",
        "print(\"Accuracy:\", metrics.accuracy_score(y_test, pred_knn))\n",
        "print(\"Precision:\", metrics.precision_score(y_test, pred_knn))\n",
        "print(\"Recall:\", metrics.recall_score(y_test, pred_knn))"
      ],
      "id": "c88bde0a",
      "execution_count": null,
      "outputs": [
        {
          "output_type": "stream",
          "text": [
            "              precision    recall  f1-score   support\n",
            "\n",
            "           0       0.91      0.96      0.93       278\n",
            "           1       0.58      0.36      0.44        42\n",
            "\n",
            "    accuracy                           0.88       320\n",
            "   macro avg       0.74      0.66      0.69       320\n",
            "weighted avg       0.86      0.88      0.87       320\n",
            "\n",
            "Accuracy: 0.88125\n",
            "Precision: 0.5769230769230769\n",
            "Recall: 0.35714285714285715\n"
          ],
          "name": "stdout"
        }
      ]
    },
    {
      "cell_type": "code",
      "metadata": {
        "execution": {
          "iopub.execute_input": "2021-07-31T06:04:12.285911Z",
          "iopub.status.busy": "2021-07-31T06:04:12.284923Z",
          "iopub.status.idle": "2021-07-31T06:04:12.297580Z",
          "shell.execute_reply": "2021-07-31T06:04:12.298013Z",
          "shell.execute_reply.started": "2021-07-31T05:58:22.384183Z"
        },
        "papermill": {
          "duration": 0.034665,
          "end_time": "2021-07-31T06:04:12.298210",
          "exception": false,
          "start_time": "2021-07-31T06:04:12.263545",
          "status": "completed"
        },
        "tags": [],
        "id": "d03df64d",
        "outputId": "ac058e85-9ac7-4d39-9bd0-df5cf4bef82b"
      },
      "source": [
        "#베이지안 모델\n",
        "\n",
        "by=GaussianNB()\n",
        "by.fit(x_train,y_train)\n",
        "pred_by=by.predict(x_test)\n",
        "print(classification_report(y_test,pred_by))\n",
        "print(\"Accuracy:\", metrics.accuracy_score(y_test, pred_by))\n",
        "print(\"Precision:\", metrics.precision_score(y_test, pred_by))\n",
        "print(\"Recall:\", metrics.recall_score(y_test, pred_by))"
      ],
      "id": "d03df64d",
      "execution_count": null,
      "outputs": [
        {
          "output_type": "stream",
          "text": [
            "              precision    recall  f1-score   support\n",
            "\n",
            "           0       0.95      0.88      0.91       278\n",
            "           1       0.46      0.67      0.54        42\n",
            "\n",
            "    accuracy                           0.85       320\n",
            "   macro avg       0.70      0.77      0.73       320\n",
            "weighted avg       0.88      0.85      0.86       320\n",
            "\n",
            "Accuracy: 0.853125\n",
            "Precision: 0.45901639344262296\n",
            "Recall: 0.6666666666666666\n"
          ],
          "name": "stdout"
        }
      ]
    },
    {
      "cell_type": "code",
      "metadata": {
        "papermill": {
          "duration": 0.015556,
          "end_time": "2021-07-31T06:04:12.329948",
          "exception": false,
          "start_time": "2021-07-31T06:04:12.314392",
          "status": "completed"
        },
        "tags": [],
        "id": "e886ed54"
      },
      "source": [
        ""
      ],
      "id": "e886ed54",
      "execution_count": null,
      "outputs": []
    }
  ]
}