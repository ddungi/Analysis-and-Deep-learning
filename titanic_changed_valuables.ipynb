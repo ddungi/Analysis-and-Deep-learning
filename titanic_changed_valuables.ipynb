{
  "nbformat": 4,
  "nbformat_minor": 5,
  "metadata": {
    "kernelspec": {
      "display_name": "Python 3",
      "language": "python",
      "name": "python3"
    },
    "language_info": {
      "codemirror_mode": {
        "name": "ipython",
        "version": 3
      },
      "file_extension": ".py",
      "mimetype": "text/x-python",
      "name": "python",
      "nbconvert_exporter": "python",
      "pygments_lexer": "ipython3",
      "version": "3.7.10"
    },
    "papermill": {
      "default_parameters": {},
      "duration": 14.798256,
      "end_time": "2021-07-28T08:28:37.737132",
      "environment_variables": {},
      "exception": null,
      "input_path": "__notebook__.ipynb",
      "output_path": "__notebook__.ipynb",
      "parameters": {},
      "start_time": "2021-07-28T08:28:22.938876",
      "version": "2.3.3"
    },
    "colab": {
      "name": "titanic-changed-valuables.ipynb",
      "provenance": [],
      "include_colab_link": true
    }
  },
  "cells": [
    {
      "cell_type": "markdown",
      "metadata": {
        "id": "view-in-github",
        "colab_type": "text"
      },
      "source": [
        "<a href=\"https://colab.research.google.com/github/ddungi/study_python/blob/main/titanic_changed_valuables.ipynb\" target=\"_parent\"><img src=\"https://colab.research.google.com/assets/colab-badge.svg\" alt=\"Open In Colab\"/></a>"
      ]
    },
    {
      "cell_type": "code",
      "metadata": {
        "execution": {
          "iopub.execute_input": "2021-07-28T08:28:31.026562Z",
          "iopub.status.busy": "2021-07-28T08:28:31.021640Z",
          "iopub.status.idle": "2021-07-28T08:28:32.201424Z",
          "shell.execute_reply": "2021-07-28T08:28:32.200716Z"
        },
        "id": "c4277ab6",
        "papermill": {
          "duration": 1.210176,
          "end_time": "2021-07-28T08:28:32.201613",
          "exception": false,
          "start_time": "2021-07-28T08:28:30.991437",
          "status": "completed"
        },
        "tags": []
      },
      "source": [
        "import pandas as pd  #판다스\n",
        "from sklearn.linear_model import LogisticRegression #로지스틱 회귀 모델\n",
        "from sklearn.tree import DecisionTreeClassifier #의사결정 나무 모델\n"
      ],
      "id": "c4277ab6",
      "execution_count": null,
      "outputs": []
    },
    {
      "cell_type": "code",
      "metadata": {
        "execution": {
          "iopub.execute_input": "2021-07-28T08:28:32.248310Z",
          "iopub.status.busy": "2021-07-28T08:28:32.247494Z",
          "iopub.status.idle": "2021-07-28T08:28:32.285717Z",
          "shell.execute_reply": "2021-07-28T08:28:32.286356Z"
        },
        "id": "202c6346",
        "papermill": {
          "duration": 0.064068,
          "end_time": "2021-07-28T08:28:32.286541",
          "exception": false,
          "start_time": "2021-07-28T08:28:32.222473",
          "status": "completed"
        },
        "tags": []
      },
      "source": [
        "#데이터 불러오기\n",
        "\n",
        "train=pd.read_csv('../input/titanic/train.csv') #모델 학습\n",
        "test=pd.read_csv('../input/titanic/test.csv') #모델 시험지\n",
        "submission=pd.read_csv('../input/titanic/gender_submission.csv') #답안지"
      ],
      "id": "202c6346",
      "execution_count": null,
      "outputs": []
    },
    {
      "cell_type": "code",
      "metadata": {
        "execution": {
          "iopub.execute_input": "2021-07-28T08:28:32.330493Z",
          "iopub.status.busy": "2021-07-28T08:28:32.329835Z",
          "iopub.status.idle": "2021-07-28T08:28:32.361351Z",
          "shell.execute_reply": "2021-07-28T08:28:32.360817Z"
        },
        "id": "d76fc374",
        "papermill": {
          "duration": 0.054162,
          "end_time": "2021-07-28T08:28:32.361496",
          "exception": false,
          "start_time": "2021-07-28T08:28:32.307334",
          "status": "completed"
        },
        "tags": [],
        "outputId": "9711b76a-7f66-477f-b3a5-115d06ec8a3a"
      },
      "source": [
        "#EDA\n",
        "train.head()\n"
      ],
      "id": "d76fc374",
      "execution_count": null,
      "outputs": [
        {
          "output_type": "execute_result",
          "data": {
            "text/html": [
              "<div>\n",
              "<style scoped>\n",
              "    .dataframe tbody tr th:only-of-type {\n",
              "        vertical-align: middle;\n",
              "    }\n",
              "\n",
              "    .dataframe tbody tr th {\n",
              "        vertical-align: top;\n",
              "    }\n",
              "\n",
              "    .dataframe thead th {\n",
              "        text-align: right;\n",
              "    }\n",
              "</style>\n",
              "<table border=\"1\" class=\"dataframe\">\n",
              "  <thead>\n",
              "    <tr style=\"text-align: right;\">\n",
              "      <th></th>\n",
              "      <th>PassengerId</th>\n",
              "      <th>Survived</th>\n",
              "      <th>Pclass</th>\n",
              "      <th>Name</th>\n",
              "      <th>Sex</th>\n",
              "      <th>Age</th>\n",
              "      <th>SibSp</th>\n",
              "      <th>Parch</th>\n",
              "      <th>Ticket</th>\n",
              "      <th>Fare</th>\n",
              "      <th>Cabin</th>\n",
              "      <th>Embarked</th>\n",
              "    </tr>\n",
              "  </thead>\n",
              "  <tbody>\n",
              "    <tr>\n",
              "      <th>0</th>\n",
              "      <td>1</td>\n",
              "      <td>0</td>\n",
              "      <td>3</td>\n",
              "      <td>Braund, Mr. Owen Harris</td>\n",
              "      <td>male</td>\n",
              "      <td>22.0</td>\n",
              "      <td>1</td>\n",
              "      <td>0</td>\n",
              "      <td>A/5 21171</td>\n",
              "      <td>7.2500</td>\n",
              "      <td>NaN</td>\n",
              "      <td>S</td>\n",
              "    </tr>\n",
              "    <tr>\n",
              "      <th>1</th>\n",
              "      <td>2</td>\n",
              "      <td>1</td>\n",
              "      <td>1</td>\n",
              "      <td>Cumings, Mrs. John Bradley (Florence Briggs Th...</td>\n",
              "      <td>female</td>\n",
              "      <td>38.0</td>\n",
              "      <td>1</td>\n",
              "      <td>0</td>\n",
              "      <td>PC 17599</td>\n",
              "      <td>71.2833</td>\n",
              "      <td>C85</td>\n",
              "      <td>C</td>\n",
              "    </tr>\n",
              "    <tr>\n",
              "      <th>2</th>\n",
              "      <td>3</td>\n",
              "      <td>1</td>\n",
              "      <td>3</td>\n",
              "      <td>Heikkinen, Miss. Laina</td>\n",
              "      <td>female</td>\n",
              "      <td>26.0</td>\n",
              "      <td>0</td>\n",
              "      <td>0</td>\n",
              "      <td>STON/O2. 3101282</td>\n",
              "      <td>7.9250</td>\n",
              "      <td>NaN</td>\n",
              "      <td>S</td>\n",
              "    </tr>\n",
              "    <tr>\n",
              "      <th>3</th>\n",
              "      <td>4</td>\n",
              "      <td>1</td>\n",
              "      <td>1</td>\n",
              "      <td>Futrelle, Mrs. Jacques Heath (Lily May Peel)</td>\n",
              "      <td>female</td>\n",
              "      <td>35.0</td>\n",
              "      <td>1</td>\n",
              "      <td>0</td>\n",
              "      <td>113803</td>\n",
              "      <td>53.1000</td>\n",
              "      <td>C123</td>\n",
              "      <td>S</td>\n",
              "    </tr>\n",
              "    <tr>\n",
              "      <th>4</th>\n",
              "      <td>5</td>\n",
              "      <td>0</td>\n",
              "      <td>3</td>\n",
              "      <td>Allen, Mr. William Henry</td>\n",
              "      <td>male</td>\n",
              "      <td>35.0</td>\n",
              "      <td>0</td>\n",
              "      <td>0</td>\n",
              "      <td>373450</td>\n",
              "      <td>8.0500</td>\n",
              "      <td>NaN</td>\n",
              "      <td>S</td>\n",
              "    </tr>\n",
              "  </tbody>\n",
              "</table>\n",
              "</div>"
            ],
            "text/plain": [
              "   PassengerId  Survived  Pclass  \\\n",
              "0            1         0       3   \n",
              "1            2         1       1   \n",
              "2            3         1       3   \n",
              "3            4         1       1   \n",
              "4            5         0       3   \n",
              "\n",
              "                                                Name     Sex   Age  SibSp  \\\n",
              "0                            Braund, Mr. Owen Harris    male  22.0      1   \n",
              "1  Cumings, Mrs. John Bradley (Florence Briggs Th...  female  38.0      1   \n",
              "2                             Heikkinen, Miss. Laina  female  26.0      0   \n",
              "3       Futrelle, Mrs. Jacques Heath (Lily May Peel)  female  35.0      1   \n",
              "4                           Allen, Mr. William Henry    male  35.0      0   \n",
              "\n",
              "   Parch            Ticket     Fare Cabin Embarked  \n",
              "0      0         A/5 21171   7.2500   NaN        S  \n",
              "1      0          PC 17599  71.2833   C85        C  \n",
              "2      0  STON/O2. 3101282   7.9250   NaN        S  \n",
              "3      0            113803  53.1000  C123        S  \n",
              "4      0            373450   8.0500   NaN        S  "
            ]
          },
          "metadata": {
            "tags": []
          },
          "execution_count": 3
        }
      ]
    },
    {
      "cell_type": "code",
      "metadata": {
        "execution": {
          "iopub.execute_input": "2021-07-28T08:28:32.413060Z",
          "iopub.status.busy": "2021-07-28T08:28:32.412188Z",
          "iopub.status.idle": "2021-07-28T08:28:32.416119Z",
          "shell.execute_reply": "2021-07-28T08:28:32.415635Z"
        },
        "id": "c10b98d3",
        "papermill": {
          "duration": 0.033688,
          "end_time": "2021-07-28T08:28:32.416284",
          "exception": false,
          "start_time": "2021-07-28T08:28:32.382596",
          "status": "completed"
        },
        "tags": [],
        "outputId": "bcb932d7-e4f6-4574-cfd2-346b9e1de865"
      },
      "source": [
        "submission.head()  #여성 1 남성0"
      ],
      "id": "c10b98d3",
      "execution_count": null,
      "outputs": [
        {
          "output_type": "execute_result",
          "data": {
            "text/html": [
              "<div>\n",
              "<style scoped>\n",
              "    .dataframe tbody tr th:only-of-type {\n",
              "        vertical-align: middle;\n",
              "    }\n",
              "\n",
              "    .dataframe tbody tr th {\n",
              "        vertical-align: top;\n",
              "    }\n",
              "\n",
              "    .dataframe thead th {\n",
              "        text-align: right;\n",
              "    }\n",
              "</style>\n",
              "<table border=\"1\" class=\"dataframe\">\n",
              "  <thead>\n",
              "    <tr style=\"text-align: right;\">\n",
              "      <th></th>\n",
              "      <th>PassengerId</th>\n",
              "      <th>Survived</th>\n",
              "    </tr>\n",
              "  </thead>\n",
              "  <tbody>\n",
              "    <tr>\n",
              "      <th>0</th>\n",
              "      <td>892</td>\n",
              "      <td>0</td>\n",
              "    </tr>\n",
              "    <tr>\n",
              "      <th>1</th>\n",
              "      <td>893</td>\n",
              "      <td>1</td>\n",
              "    </tr>\n",
              "    <tr>\n",
              "      <th>2</th>\n",
              "      <td>894</td>\n",
              "      <td>0</td>\n",
              "    </tr>\n",
              "    <tr>\n",
              "      <th>3</th>\n",
              "      <td>895</td>\n",
              "      <td>0</td>\n",
              "    </tr>\n",
              "    <tr>\n",
              "      <th>4</th>\n",
              "      <td>896</td>\n",
              "      <td>1</td>\n",
              "    </tr>\n",
              "  </tbody>\n",
              "</table>\n",
              "</div>"
            ],
            "text/plain": [
              "   PassengerId  Survived\n",
              "0          892         0\n",
              "1          893         1\n",
              "2          894         0\n",
              "3          895         0\n",
              "4          896         1"
            ]
          },
          "metadata": {
            "tags": []
          },
          "execution_count": 4
        }
      ]
    },
    {
      "cell_type": "code",
      "metadata": {
        "execution": {
          "iopub.execute_input": "2021-07-28T08:28:32.463821Z",
          "iopub.status.busy": "2021-07-28T08:28:32.462832Z",
          "iopub.status.idle": "2021-07-28T08:28:32.469707Z",
          "shell.execute_reply": "2021-07-28T08:28:32.470273Z"
        },
        "id": "048c26ea",
        "papermill": {
          "duration": 0.032744,
          "end_time": "2021-07-28T08:28:32.470446",
          "exception": false,
          "start_time": "2021-07-28T08:28:32.437702",
          "status": "completed"
        },
        "tags": [],
        "outputId": "bdd11360-1fc6-46e9-d44c-dc852f8cf191"
      },
      "source": [
        "print(train.shape) #속성은 괄호가 없다.\n",
        "print(test.shape)\n",
        "print(submission.shape)"
      ],
      "id": "048c26ea",
      "execution_count": null,
      "outputs": [
        {
          "output_type": "stream",
          "text": [
            "(891, 12)\n",
            "(418, 11)\n",
            "(418, 2)\n"
          ],
          "name": "stdout"
        }
      ]
    },
    {
      "cell_type": "code",
      "metadata": {
        "execution": {
          "iopub.execute_input": "2021-07-28T08:28:32.535968Z",
          "iopub.status.busy": "2021-07-28T08:28:32.535230Z",
          "iopub.status.idle": "2021-07-28T08:28:32.539832Z",
          "shell.execute_reply": "2021-07-28T08:28:32.539103Z"
        },
        "id": "642e6d2f",
        "papermill": {
          "duration": 0.047657,
          "end_time": "2021-07-28T08:28:32.539984",
          "exception": false,
          "start_time": "2021-07-28T08:28:32.492327",
          "status": "completed"
        },
        "tags": [],
        "outputId": "400da3fe-b411-4167-f314-dd2af30ddfe2"
      },
      "source": [
        "train.info()"
      ],
      "id": "642e6d2f",
      "execution_count": null,
      "outputs": [
        {
          "output_type": "stream",
          "text": [
            "<class 'pandas.core.frame.DataFrame'>\n",
            "RangeIndex: 891 entries, 0 to 890\n",
            "Data columns (total 12 columns):\n",
            " #   Column       Non-Null Count  Dtype  \n",
            "---  ------       --------------  -----  \n",
            " 0   PassengerId  891 non-null    int64  \n",
            " 1   Survived     891 non-null    int64  \n",
            " 2   Pclass       891 non-null    int64  \n",
            " 3   Name         891 non-null    object \n",
            " 4   Sex          891 non-null    object \n",
            " 5   Age          714 non-null    float64\n",
            " 6   SibSp        891 non-null    int64  \n",
            " 7   Parch        891 non-null    int64  \n",
            " 8   Ticket       891 non-null    object \n",
            " 9   Fare         891 non-null    float64\n",
            " 10  Cabin        204 non-null    object \n",
            " 11  Embarked     889 non-null    object \n",
            "dtypes: float64(2), int64(5), object(5)\n",
            "memory usage: 83.7+ KB\n"
          ],
          "name": "stdout"
        }
      ]
    },
    {
      "cell_type": "code",
      "metadata": {
        "execution": {
          "iopub.execute_input": "2021-07-28T08:28:32.600394Z",
          "iopub.status.busy": "2021-07-28T08:28:32.599675Z",
          "iopub.status.idle": "2021-07-28T08:28:32.603643Z",
          "shell.execute_reply": "2021-07-28T08:28:32.604144Z"
        },
        "id": "a54dbcaa",
        "papermill": {
          "duration": 0.041883,
          "end_time": "2021-07-28T08:28:32.604330",
          "exception": false,
          "start_time": "2021-07-28T08:28:32.562447",
          "status": "completed"
        },
        "tags": [],
        "outputId": "7f5eb67a-b5fa-435b-d003-029488e0db7f"
      },
      "source": [
        "test.info()"
      ],
      "id": "a54dbcaa",
      "execution_count": null,
      "outputs": [
        {
          "output_type": "stream",
          "text": [
            "<class 'pandas.core.frame.DataFrame'>\n",
            "RangeIndex: 418 entries, 0 to 417\n",
            "Data columns (total 11 columns):\n",
            " #   Column       Non-Null Count  Dtype  \n",
            "---  ------       --------------  -----  \n",
            " 0   PassengerId  418 non-null    int64  \n",
            " 1   Pclass       418 non-null    int64  \n",
            " 2   Name         418 non-null    object \n",
            " 3   Sex          418 non-null    object \n",
            " 4   Age          332 non-null    float64\n",
            " 5   SibSp        418 non-null    int64  \n",
            " 6   Parch        418 non-null    int64  \n",
            " 7   Ticket       418 non-null    object \n",
            " 8   Fare         417 non-null    float64\n",
            " 9   Cabin        91 non-null     object \n",
            " 10  Embarked     418 non-null    object \n",
            "dtypes: float64(2), int64(4), object(5)\n",
            "memory usage: 36.0+ KB\n"
          ],
          "name": "stdout"
        }
      ]
    },
    {
      "cell_type": "code",
      "metadata": {
        "execution": {
          "iopub.execute_input": "2021-07-28T08:28:32.683470Z",
          "iopub.status.busy": "2021-07-28T08:28:32.682448Z",
          "iopub.status.idle": "2021-07-28T08:28:32.734339Z",
          "shell.execute_reply": "2021-07-28T08:28:32.734948Z"
        },
        "id": "900c95e9",
        "papermill": {
          "duration": 0.098489,
          "end_time": "2021-07-28T08:28:32.735120",
          "exception": false,
          "start_time": "2021-07-28T08:28:32.636631",
          "status": "completed"
        },
        "tags": [],
        "outputId": "56371ca0-6f6c-4ae1-d7c1-d4f572a40c63"
      },
      "source": [
        "print(train.describe())\n",
        "print(test.describe())"
      ],
      "id": "900c95e9",
      "execution_count": null,
      "outputs": [
        {
          "output_type": "stream",
          "text": [
            "       PassengerId    Survived      Pclass         Age       SibSp  \\\n",
            "count   891.000000  891.000000  891.000000  714.000000  891.000000   \n",
            "mean    446.000000    0.383838    2.308642   29.699118    0.523008   \n",
            "std     257.353842    0.486592    0.836071   14.526497    1.102743   \n",
            "min       1.000000    0.000000    1.000000    0.420000    0.000000   \n",
            "25%     223.500000    0.000000    2.000000   20.125000    0.000000   \n",
            "50%     446.000000    0.000000    3.000000   28.000000    0.000000   \n",
            "75%     668.500000    1.000000    3.000000   38.000000    1.000000   \n",
            "max     891.000000    1.000000    3.000000   80.000000    8.000000   \n",
            "\n",
            "            Parch        Fare  \n",
            "count  891.000000  891.000000  \n",
            "mean     0.381594   32.204208  \n",
            "std      0.806057   49.693429  \n",
            "min      0.000000    0.000000  \n",
            "25%      0.000000    7.910400  \n",
            "50%      0.000000   14.454200  \n",
            "75%      0.000000   31.000000  \n",
            "max      6.000000  512.329200  \n",
            "       PassengerId      Pclass         Age       SibSp       Parch        Fare\n",
            "count   418.000000  418.000000  332.000000  418.000000  418.000000  417.000000\n",
            "mean   1100.500000    2.265550   30.272590    0.447368    0.392344   35.627188\n",
            "std     120.810458    0.841838   14.181209    0.896760    0.981429   55.907576\n",
            "min     892.000000    1.000000    0.170000    0.000000    0.000000    0.000000\n",
            "25%     996.250000    1.000000   21.000000    0.000000    0.000000    7.895800\n",
            "50%    1100.500000    3.000000   27.000000    0.000000    0.000000   14.454200\n",
            "75%    1204.750000    3.000000   39.000000    1.000000    0.000000   31.500000\n",
            "max    1309.000000    3.000000   76.000000    8.000000    9.000000  512.329200\n"
          ],
          "name": "stdout"
        }
      ]
    },
    {
      "cell_type": "code",
      "metadata": {
        "execution": {
          "iopub.execute_input": "2021-07-28T08:28:32.789808Z",
          "iopub.status.busy": "2021-07-28T08:28:32.789046Z",
          "iopub.status.idle": "2021-07-28T08:28:32.793431Z",
          "shell.execute_reply": "2021-07-28T08:28:32.792870Z"
        },
        "id": "547d2529",
        "papermill": {
          "duration": 0.03498,
          "end_time": "2021-07-28T08:28:32.793567",
          "exception": false,
          "start_time": "2021-07-28T08:28:32.758587",
          "status": "completed"
        },
        "tags": [],
        "outputId": "e786e82a-4228-45c0-d775-b81da9bee611"
      },
      "source": [
        "#describe()는 데이터프레임\n",
        "#value_counts 는 시리즈에서만 실행 시리즈는 하나의 열\n",
        "train['Embarked'].value_counts()"
      ],
      "id": "547d2529",
      "execution_count": null,
      "outputs": [
        {
          "output_type": "execute_result",
          "data": {
            "text/plain": [
              "S    644\n",
              "C    168\n",
              "Q     77\n",
              "Name: Embarked, dtype: int64"
            ]
          },
          "metadata": {
            "tags": []
          },
          "execution_count": 9
        }
      ]
    },
    {
      "cell_type": "code",
      "metadata": {
        "execution": {
          "iopub.execute_input": "2021-07-28T08:28:32.844778Z",
          "iopub.status.busy": "2021-07-28T08:28:32.844139Z",
          "iopub.status.idle": "2021-07-28T08:28:33.112974Z",
          "shell.execute_reply": "2021-07-28T08:28:33.112465Z"
        },
        "id": "50a51de2",
        "papermill": {
          "duration": 0.295591,
          "end_time": "2021-07-28T08:28:33.113114",
          "exception": false,
          "start_time": "2021-07-28T08:28:32.817523",
          "status": "completed"
        },
        "tags": [],
        "outputId": "f007bb4a-7d63-4bdd-f2c3-2fe2bc4f1ff6"
      },
      "source": [
        "#시각화\n",
        "train.groupby('Sex').mean().plot()"
      ],
      "id": "50a51de2",
      "execution_count": null,
      "outputs": [
        {
          "output_type": "execute_result",
          "data": {
            "text/plain": [
              "<AxesSubplot:xlabel='Sex'>"
            ]
          },
          "metadata": {
            "tags": []
          },
          "execution_count": 10
        },
        {
          "output_type": "display_data",
          "data": {
            "image/png": "[encoded data removed]",
            "text/plain": [
              "<Figure size 432x288 with 1 Axes>"
            ]
          },
          "metadata": {
            "tags": [],
            "needs_background": "light"
          }
        }
      ]
    },
    {
      "cell_type": "code",
      "metadata": {
        "execution": {
          "iopub.execute_input": "2021-07-28T08:28:33.186468Z",
          "iopub.status.busy": "2021-07-28T08:28:33.170804Z",
          "iopub.status.idle": "2021-07-28T08:28:33.416254Z",
          "shell.execute_reply": "2021-07-28T08:28:33.415621Z"
        },
        "id": "2491e1ba",
        "papermill": {
          "duration": 0.278196,
          "end_time": "2021-07-28T08:28:33.416413",
          "exception": false,
          "start_time": "2021-07-28T08:28:33.138217",
          "status": "completed"
        },
        "tags": [],
        "outputId": "4583065b-16dc-42ba-f884-0713bbfd7575"
      },
      "source": [
        "train.groupby('Pclass').mean().plot()"
      ],
      "id": "2491e1ba",
      "execution_count": null,
      "outputs": [
        {
          "output_type": "execute_result",
          "data": {
            "text/plain": [
              "<AxesSubplot:xlabel='Pclass'>"
            ]
          },
          "metadata": {
            "tags": []
          },
          "execution_count": 11
        },
        {
          "output_type": "display_data",
          "data": {
            "image/png": "[encoded data removed]",
            "text/plain": [
              "<Figure size 432x288 with 1 Axes>"
            ]
          },
          "metadata": {
            "tags": [],
            "needs_background": "light"
          }
        }
      ]
    },
    {
      "cell_type": "code",
      "metadata": {
        "execution": {
          "iopub.execute_input": "2021-07-28T08:28:33.476478Z",
          "iopub.status.busy": "2021-07-28T08:28:33.475469Z",
          "iopub.status.idle": "2021-07-28T08:28:33.619159Z",
          "shell.execute_reply": "2021-07-28T08:28:33.618637Z"
        },
        "id": "54ca2670",
        "papermill": {
          "duration": 0.176028,
          "end_time": "2021-07-28T08:28:33.619338",
          "exception": false,
          "start_time": "2021-07-28T08:28:33.443310",
          "status": "completed"
        },
        "tags": [],
        "outputId": "b86b008f-0a83-4baa-f730-d6f5ab46129b"
      },
      "source": [
        "\n",
        "#pd.Series.plot(kind='bar')\n",
        "\n",
        "train.groupby('Pclass').mean()['Survived'].plot(kind='bar', rot=0)  #rot=0 x축 돌아간거 수정 45는 비스듬히"
      ],
      "id": "54ca2670",
      "execution_count": null,
      "outputs": [
        {
          "output_type": "execute_result",
          "data": {
            "text/plain": [
              "<AxesSubplot:xlabel='Pclass'>"
            ]
          },
          "metadata": {
            "tags": []
          },
          "execution_count": 12
        },
        {
          "output_type": "display_data",
          "data": {
            "image/png": "[encoded data removed]",
            "text/plain": [
              "<Figure size 432x288 with 1 Axes>"
            ]
          },
          "metadata": {
            "tags": [],
            "needs_background": "light"
          }
        }
      ]
    },
    {
      "cell_type": "code",
      "metadata": {
        "execution": {
          "iopub.execute_input": "2021-07-28T08:28:33.681075Z",
          "iopub.status.busy": "2021-07-28T08:28:33.680423Z",
          "iopub.status.idle": "2021-07-28T08:28:33.967519Z",
          "shell.execute_reply": "2021-07-28T08:28:33.968044Z"
        },
        "id": "056117f4",
        "papermill": {
          "duration": 0.32132,
          "end_time": "2021-07-28T08:28:33.968247",
          "exception": false,
          "start_time": "2021-07-28T08:28:33.646927",
          "status": "completed"
        },
        "tags": [],
        "outputId": "2bc81034-975e-4b9b-f184-688d2a16049d"
      },
      "source": [
        "train['Age'].plot(kind='hist',bins=50,grid=True) #bins 도수를 더 잘게 나눔 보조선까지 추가"
      ],
      "id": "056117f4",
      "execution_count": null,
      "outputs": [
        {
          "output_type": "execute_result",
          "data": {
            "text/plain": [
              "<AxesSubplot:ylabel='Frequency'>"
            ]
          },
          "metadata": {
            "tags": []
          },
          "execution_count": 13
        },
        {
          "output_type": "display_data",
          "data": {
            "image/png": "[encoded data removed]",
            "text/plain": [
              "<Figure size 432x288 with 1 Axes>"
            ]
          },
          "metadata": {
            "tags": [],
            "needs_background": "light"
          }
        }
      ]
    },
    {
      "cell_type": "code",
      "metadata": {
        "execution": {
          "iopub.execute_input": "2021-07-28T08:28:34.161133Z",
          "iopub.status.busy": "2021-07-28T08:28:34.158169Z",
          "iopub.status.idle": "2021-07-28T08:28:34.346766Z",
          "shell.execute_reply": "2021-07-28T08:28:34.347240Z"
        },
        "id": "1c8a54ae",
        "papermill": {
          "duration": 0.344811,
          "end_time": "2021-07-28T08:28:34.347432",
          "exception": false,
          "start_time": "2021-07-28T08:28:34.002621",
          "status": "completed"
        },
        "tags": [],
        "outputId": "0af7e1fc-fa51-47c4-f419-87c026169c8b"
      },
      "source": [
        "train.plot(x='Age',y='Fare',kind='scatter')"
      ],
      "id": "1c8a54ae",
      "execution_count": null,
      "outputs": [
        {
          "output_type": "execute_result",
          "data": {
            "text/plain": [
              "<AxesSubplot:xlabel='Age', ylabel='Fare'>"
            ]
          },
          "metadata": {
            "tags": []
          },
          "execution_count": 14
        },
        {
          "output_type": "display_data",
          "data": {
            "image/png": "[encoded data removed]",
            "text/plain": [
              "<Figure size 432x288 with 1 Axes>"
            ]
          },
          "metadata": {
            "tags": [],
            "needs_background": "light"
          }
        }
      ]
    },
    {
      "cell_type": "code",
      "metadata": {
        "execution": {
          "iopub.execute_input": "2021-07-28T08:28:34.413481Z",
          "iopub.status.busy": "2021-07-28T08:28:34.412613Z",
          "iopub.status.idle": "2021-07-28T08:28:35.153096Z",
          "shell.execute_reply": "2021-07-28T08:28:35.152590Z"
        },
        "id": "1d0268ab",
        "papermill": {
          "duration": 0.775453,
          "end_time": "2021-07-28T08:28:35.153246",
          "exception": false,
          "start_time": "2021-07-28T08:28:34.377793",
          "status": "completed"
        },
        "tags": [],
        "outputId": "84f37130-b171-4367-9eb4-01da9b65576f"
      },
      "source": [
        "import matplotlib.pyplot as plt\n",
        "\n",
        "import seaborn as sns\n",
        "plt.figure(figsize=(10,10)) \n",
        "sns.heatmap(train.corr(),annot=True)"
      ],
      "id": "1d0268ab",
      "execution_count": null,
      "outputs": [
        {
          "output_type": "execute_result",
          "data": {
            "text/plain": [
              "<AxesSubplot:>"
            ]
          },
          "metadata": {
            "tags": []
          },
          "execution_count": 15
        },
        {
          "output_type": "display_data",
          "data": {
            "image/png": "[encoded data removed]",
            "text/plain": [
              "<Figure size 720x720 with 2 Axes>"
            ]
          },
          "metadata": {
            "tags": [],
            "needs_background": "light"
          }
        }
      ]
    },
    {
      "cell_type": "code",
      "metadata": {
        "execution": {
          "iopub.execute_input": "2021-07-28T08:28:35.226978Z",
          "iopub.status.busy": "2021-07-28T08:28:35.225740Z",
          "iopub.status.idle": "2021-07-28T08:28:35.230371Z",
          "shell.execute_reply": "2021-07-28T08:28:35.229698Z"
        },
        "id": "36d7987e",
        "papermill": {
          "duration": 0.044448,
          "end_time": "2021-07-28T08:28:35.230514",
          "exception": false,
          "start_time": "2021-07-28T08:28:35.186066",
          "status": "completed"
        },
        "tags": [],
        "outputId": "0a04b55a-a035-4b04-ce55-433920b8f7b0"
      },
      "source": [
        "##데이터 전처리 //결측값\n",
        "train.isna().sum()\n"
      ],
      "id": "36d7987e",
      "execution_count": null,
      "outputs": [
        {
          "output_type": "execute_result",
          "data": {
            "text/plain": [
              "PassengerId      0\n",
              "Survived         0\n",
              "Pclass           0\n",
              "Name             0\n",
              "Sex              0\n",
              "Age            177\n",
              "SibSp            0\n",
              "Parch            0\n",
              "Ticket           0\n",
              "Fare             0\n",
              "Cabin          687\n",
              "Embarked         2\n",
              "dtype: int64"
            ]
          },
          "metadata": {
            "tags": []
          },
          "execution_count": 16
        }
      ]
    },
    {
      "cell_type": "code",
      "metadata": {
        "execution": {
          "iopub.execute_input": "2021-07-28T08:28:35.305203Z",
          "iopub.status.busy": "2021-07-28T08:28:35.304243Z",
          "iopub.status.idle": "2021-07-28T08:28:35.308762Z",
          "shell.execute_reply": "2021-07-28T08:28:35.308113Z"
        },
        "id": "c1ab38ec",
        "papermill": {
          "duration": 0.045453,
          "end_time": "2021-07-28T08:28:35.308896",
          "exception": false,
          "start_time": "2021-07-28T08:28:35.263443",
          "status": "completed"
        },
        "tags": [],
        "outputId": "9cf1af6d-d505-4b2e-b590-656bed211731"
      },
      "source": [
        "test.isna().sum()"
      ],
      "id": "c1ab38ec",
      "execution_count": null,
      "outputs": [
        {
          "output_type": "execute_result",
          "data": {
            "text/plain": [
              "PassengerId      0\n",
              "Pclass           0\n",
              "Name             0\n",
              "Sex              0\n",
              "Age             86\n",
              "SibSp            0\n",
              "Parch            0\n",
              "Ticket           0\n",
              "Fare             1\n",
              "Cabin          327\n",
              "Embarked         0\n",
              "dtype: int64"
            ]
          },
          "metadata": {
            "tags": []
          },
          "execution_count": 17
        }
      ]
    },
    {
      "cell_type": "code",
      "metadata": {
        "execution": {
          "iopub.execute_input": "2021-07-28T08:28:35.381833Z",
          "iopub.status.busy": "2021-07-28T08:28:35.380925Z",
          "iopub.status.idle": "2021-07-28T08:28:35.384875Z",
          "shell.execute_reply": "2021-07-28T08:28:35.385400Z"
        },
        "id": "d9d78e3d",
        "papermill": {
          "duration": 0.043239,
          "end_time": "2021-07-28T08:28:35.385572",
          "exception": false,
          "start_time": "2021-07-28T08:28:35.342333",
          "status": "completed"
        },
        "tags": [],
        "outputId": "c2274bf0-279a-4c4c-ee70-a773e7e5c72a"
      },
      "source": [
        "train['Age'].median()"
      ],
      "id": "d9d78e3d",
      "execution_count": null,
      "outputs": [
        {
          "output_type": "execute_result",
          "data": {
            "text/plain": [
              "28.0"
            ]
          },
          "metadata": {
            "tags": []
          },
          "execution_count": 18
        }
      ]
    },
    {
      "cell_type": "code",
      "metadata": {
        "execution": {
          "iopub.execute_input": "2021-07-28T08:28:35.457105Z",
          "iopub.status.busy": "2021-07-28T08:28:35.456174Z",
          "iopub.status.idle": "2021-07-28T08:28:35.461761Z",
          "shell.execute_reply": "2021-07-28T08:28:35.462238Z"
        },
        "id": "c731986b",
        "papermill": {
          "duration": 0.042898,
          "end_time": "2021-07-28T08:28:35.462424",
          "exception": false,
          "start_time": "2021-07-28T08:28:35.419526",
          "status": "completed"
        },
        "tags": [],
        "outputId": "ad4be089-3f79-467a-ab15-fd4e8ecb9b08"
      },
      "source": [
        "test['Fare'].mean()"
      ],
      "id": "c731986b",
      "execution_count": null,
      "outputs": [
        {
          "output_type": "execute_result",
          "data": {
            "text/plain": [
              "35.6271884892086"
            ]
          },
          "metadata": {
            "tags": []
          },
          "execution_count": 19
        }
      ]
    },
    {
      "cell_type": "code",
      "metadata": {
        "execution": {
          "iopub.execute_input": "2021-07-28T08:28:35.533617Z",
          "iopub.status.busy": "2021-07-28T08:28:35.532618Z",
          "iopub.status.idle": "2021-07-28T08:28:35.539823Z",
          "shell.execute_reply": "2021-07-28T08:28:35.540304Z"
        },
        "id": "1dfbc78a",
        "papermill": {
          "duration": 0.044363,
          "end_time": "2021-07-28T08:28:35.540481",
          "exception": false,
          "start_time": "2021-07-28T08:28:35.496118",
          "status": "completed"
        },
        "tags": []
      },
      "source": [
        "train['Age'].fillna(28)#이것만 쓰면 저장이 안됨!\n",
        "train['Age']=train['Age'].fillna(28)\n",
        "\n",
        "test['Age']=test['Age'].fillna(28)  #나이 변수 변경 \n",
        "test['Fare']=test['Fare'].fillna(35.63)"
      ],
      "id": "1dfbc78a",
      "execution_count": null,
      "outputs": []
    },
    {
      "cell_type": "code",
      "metadata": {
        "execution": {
          "iopub.execute_input": "2021-07-28T08:28:35.611874Z",
          "iopub.status.busy": "2021-07-28T08:28:35.610893Z",
          "iopub.status.idle": "2021-07-28T08:28:35.620630Z",
          "shell.execute_reply": "2021-07-28T08:28:35.620092Z"
        },
        "id": "12559da0",
        "papermill": {
          "duration": 0.046493,
          "end_time": "2021-07-28T08:28:35.620784",
          "exception": false,
          "start_time": "2021-07-28T08:28:35.574291",
          "status": "completed"
        },
        "tags": [],
        "outputId": "d369e604-57a0-44ae-ec29-b66e2dda81b4"
      },
      "source": [
        "train.isna().sum()# Age 확인"
      ],
      "id": "12559da0",
      "execution_count": null,
      "outputs": [
        {
          "output_type": "execute_result",
          "data": {
            "text/plain": [
              "PassengerId      0\n",
              "Survived         0\n",
              "Pclass           0\n",
              "Name             0\n",
              "Sex              0\n",
              "Age              0\n",
              "SibSp            0\n",
              "Parch            0\n",
              "Ticket           0\n",
              "Fare             0\n",
              "Cabin          687\n",
              "Embarked         2\n",
              "dtype: int64"
            ]
          },
          "metadata": {
            "tags": []
          },
          "execution_count": 21
        }
      ]
    },
    {
      "cell_type": "code",
      "metadata": {
        "execution": {
          "iopub.execute_input": "2021-07-28T08:28:35.697592Z",
          "iopub.status.busy": "2021-07-28T08:28:35.696921Z",
          "iopub.status.idle": "2021-07-28T08:28:35.700621Z",
          "shell.execute_reply": "2021-07-28T08:28:35.701065Z"
        },
        "id": "6de16a29",
        "papermill": {
          "duration": 0.046208,
          "end_time": "2021-07-28T08:28:35.701235",
          "exception": false,
          "start_time": "2021-07-28T08:28:35.655027",
          "status": "completed"
        },
        "tags": [],
        "outputId": "0dd4d89e-c026-4ff0-df75-b112213596b7"
      },
      "source": [
        "test.isna().sum()"
      ],
      "id": "6de16a29",
      "execution_count": null,
      "outputs": [
        {
          "output_type": "execute_result",
          "data": {
            "text/plain": [
              "PassengerId      0\n",
              "Pclass           0\n",
              "Name             0\n",
              "Sex              0\n",
              "Age              0\n",
              "SibSp            0\n",
              "Parch            0\n",
              "Ticket           0\n",
              "Fare             0\n",
              "Cabin          327\n",
              "Embarked         0\n",
              "dtype: int64"
            ]
          },
          "metadata": {
            "tags": []
          },
          "execution_count": 22
        }
      ]
    },
    {
      "cell_type": "code",
      "metadata": {
        "execution": {
          "iopub.execute_input": "2021-07-28T08:28:35.780908Z",
          "iopub.status.busy": "2021-07-28T08:28:35.780207Z",
          "iopub.status.idle": "2021-07-28T08:28:35.782005Z",
          "shell.execute_reply": "2021-07-28T08:28:35.782516Z"
        },
        "id": "59d1cf69",
        "papermill": {
          "duration": 0.046092,
          "end_time": "2021-07-28T08:28:35.782691",
          "exception": false,
          "start_time": "2021-07-28T08:28:35.736599",
          "status": "completed"
        },
        "tags": []
      },
      "source": [
        "#pd.Series.map() #시리즈 내 값을 변환할 떄 사용하는 함수\n",
        "\n",
        "train['Sex']=train['Sex'].map({'male':0,'female':1})  #남자여자 변수 숫자로 \n",
        "test['Sex']=test['Sex'].map({'male':0,'female':1})"
      ],
      "id": "59d1cf69",
      "execution_count": null,
      "outputs": []
    },
    {
      "cell_type": "code",
      "metadata": {
        "execution": {
          "iopub.execute_input": "2021-07-28T08:28:35.856968Z",
          "iopub.status.busy": "2021-07-28T08:28:35.856313Z",
          "iopub.status.idle": "2021-07-28T08:28:35.862893Z",
          "shell.execute_reply": "2021-07-28T08:28:35.863378Z"
        },
        "id": "59a3dbb4",
        "papermill": {
          "duration": 0.045202,
          "end_time": "2021-07-28T08:28:35.863555",
          "exception": false,
          "start_time": "2021-07-28T08:28:35.818353",
          "status": "completed"
        },
        "tags": [],
        "outputId": "d5cc8e12-5a5f-4ec7-981d-294a169f0f95"
      },
      "source": [
        "train['Sex']"
      ],
      "id": "59a3dbb4",
      "execution_count": null,
      "outputs": [
        {
          "output_type": "execute_result",
          "data": {
            "text/plain": [
              "0      0\n",
              "1      1\n",
              "2      1\n",
              "3      1\n",
              "4      0\n",
              "      ..\n",
              "886    0\n",
              "887    1\n",
              "888    1\n",
              "889    0\n",
              "890    0\n",
              "Name: Sex, Length: 891, dtype: int64"
            ]
          },
          "metadata": {
            "tags": []
          },
          "execution_count": 24
        }
      ]
    },
    {
      "cell_type": "code",
      "metadata": {
        "execution": {
          "iopub.execute_input": "2021-07-28T08:28:35.938642Z",
          "iopub.status.busy": "2021-07-28T08:28:35.937960Z",
          "iopub.status.idle": "2021-07-28T08:28:35.945582Z",
          "shell.execute_reply": "2021-07-28T08:28:35.946052Z"
        },
        "id": "56a148cb",
        "papermill": {
          "duration": 0.047156,
          "end_time": "2021-07-28T08:28:35.946237",
          "exception": false,
          "start_time": "2021-07-28T08:28:35.899081",
          "status": "completed"
        },
        "tags": []
      },
      "source": [
        "#X -> MODEL -> y\n",
        "\n",
        "\n",
        "X_train=train[['Sex','Fare','Pclass','Age']]\n",
        "y_train=train['Survived']\n",
        "\n",
        "X_test=test[['Sex','Fare','Pclass','Age']]\n",
        "lr=LogisticRegression()"
      ],
      "id": "56a148cb",
      "execution_count": null,
      "outputs": []
    },
    {
      "cell_type": "code",
      "metadata": {
        "execution": {
          "iopub.execute_input": "2021-07-28T08:28:36.025830Z",
          "iopub.status.busy": "2021-07-28T08:28:36.024852Z",
          "iopub.status.idle": "2021-07-28T08:28:36.184351Z",
          "shell.execute_reply": "2021-07-28T08:28:36.183760Z"
        },
        "id": "737050d3",
        "papermill": {
          "duration": 0.202772,
          "end_time": "2021-07-28T08:28:36.184495",
          "exception": false,
          "start_time": "2021-07-28T08:28:35.981723",
          "status": "completed"
        },
        "tags": [],
        "outputId": "789db85c-efc3-4159-e492-5325a4487db9"
      },
      "source": [
        "lr.fit(X_train,y_train)"
      ],
      "id": "737050d3",
      "execution_count": null,
      "outputs": [
        {
          "output_type": "execute_result",
          "data": {
            "text/plain": [
              "LogisticRegression()"
            ]
          },
          "metadata": {
            "tags": []
          },
          "execution_count": 26
        }
      ]
    },
    {
      "cell_type": "code",
      "metadata": {
        "execution": {
          "iopub.execute_input": "2021-07-28T08:28:36.274130Z",
          "iopub.status.busy": "2021-07-28T08:28:36.273458Z",
          "iopub.status.idle": "2021-07-28T08:28:36.276442Z",
          "shell.execute_reply": "2021-07-28T08:28:36.277012Z"
        },
        "id": "06a655aa",
        "papermill": {
          "duration": 0.056284,
          "end_time": "2021-07-28T08:28:36.277185",
          "exception": false,
          "start_time": "2021-07-28T08:28:36.220901",
          "status": "completed"
        },
        "tags": [],
        "outputId": "4ec6771b-9b90-4410-da58-c392354828f2"
      },
      "source": [
        "lr_pred=lr.predict_proba(X_test)[:,1]\n",
        "submission['Survived']=lr_pred\n",
        "submission"
      ],
      "id": "06a655aa",
      "execution_count": null,
      "outputs": [
        {
          "output_type": "execute_result",
          "data": {
            "text/html": [
              "<div>\n",
              "<style scoped>\n",
              "    .dataframe tbody tr th:only-of-type {\n",
              "        vertical-align: middle;\n",
              "    }\n",
              "\n",
              "    .dataframe tbody tr th {\n",
              "        vertical-align: top;\n",
              "    }\n",
              "\n",
              "    .dataframe thead th {\n",
              "        text-align: right;\n",
              "    }\n",
              "</style>\n",
              "<table border=\"1\" class=\"dataframe\">\n",
              "  <thead>\n",
              "    <tr style=\"text-align: right;\">\n",
              "      <th></th>\n",
              "      <th>PassengerId</th>\n",
              "      <th>Survived</th>\n",
              "    </tr>\n",
              "  </thead>\n",
              "  <tbody>\n",
              "    <tr>\n",
              "      <th>0</th>\n",
              "      <td>892</td>\n",
              "      <td>0.077039</td>\n",
              "    </tr>\n",
              "    <tr>\n",
              "      <th>1</th>\n",
              "      <td>893</td>\n",
              "      <td>0.406913</td>\n",
              "    </tr>\n",
              "    <tr>\n",
              "      <th>2</th>\n",
              "      <td>894</td>\n",
              "      <td>0.094569</td>\n",
              "    </tr>\n",
              "    <tr>\n",
              "      <th>3</th>\n",
              "      <td>895</td>\n",
              "      <td>0.096297</td>\n",
              "    </tr>\n",
              "    <tr>\n",
              "      <th>4</th>\n",
              "      <td>896</td>\n",
              "      <td>0.608105</td>\n",
              "    </tr>\n",
              "    <tr>\n",
              "      <th>...</th>\n",
              "      <td>...</td>\n",
              "      <td>...</td>\n",
              "    </tr>\n",
              "    <tr>\n",
              "      <th>413</th>\n",
              "      <td>1305</td>\n",
              "      <td>0.093466</td>\n",
              "    </tr>\n",
              "    <tr>\n",
              "      <th>414</th>\n",
              "      <td>1306</td>\n",
              "      <td>0.900048</td>\n",
              "    </tr>\n",
              "    <tr>\n",
              "      <th>415</th>\n",
              "      <td>1307</td>\n",
              "      <td>0.068266</td>\n",
              "    </tr>\n",
              "    <tr>\n",
              "      <th>416</th>\n",
              "      <td>1308</td>\n",
              "      <td>0.093466</td>\n",
              "    </tr>\n",
              "    <tr>\n",
              "      <th>417</th>\n",
              "      <td>1309</td>\n",
              "      <td>0.094464</td>\n",
              "    </tr>\n",
              "  </tbody>\n",
              "</table>\n",
              "<p>418 rows × 2 columns</p>\n",
              "</div>"
            ],
            "text/plain": [
              "     PassengerId  Survived\n",
              "0            892  0.077039\n",
              "1            893  0.406913\n",
              "2            894  0.094569\n",
              "3            895  0.096297\n",
              "4            896  0.608105\n",
              "..           ...       ...\n",
              "413         1305  0.093466\n",
              "414         1306  0.900048\n",
              "415         1307  0.068266\n",
              "416         1308  0.093466\n",
              "417         1309  0.094464\n",
              "\n",
              "[418 rows x 2 columns]"
            ]
          },
          "metadata": {
            "tags": []
          },
          "execution_count": 27
        }
      ]
    },
    {
      "cell_type": "code",
      "metadata": {
        "execution": {
          "iopub.execute_input": "2021-07-28T08:28:36.354807Z",
          "iopub.status.busy": "2021-07-28T08:28:36.354110Z",
          "iopub.status.idle": "2021-07-28T08:28:36.363548Z",
          "shell.execute_reply": "2021-07-28T08:28:36.362959Z"
        },
        "id": "50950773",
        "papermill": {
          "duration": 0.048851,
          "end_time": "2021-07-28T08:28:36.363685",
          "exception": false,
          "start_time": "2021-07-28T08:28:36.314834",
          "status": "completed"
        },
        "tags": []
      },
      "source": [
        "submission.to_csv('logistic_regression2_pred.csv',index=False)  "
      ],
      "id": "50950773",
      "execution_count": null,
      "outputs": []
    },
    {
      "cell_type": "code",
      "metadata": {
        "id": "be4ad70a",
        "papermill": {
          "duration": 0.036755,
          "end_time": "2021-07-28T08:28:36.437066",
          "exception": false,
          "start_time": "2021-07-28T08:28:36.400311",
          "status": "completed"
        },
        "tags": []
      },
      "source": [
        ""
      ],
      "id": "be4ad70a",
      "execution_count": null,
      "outputs": []
    }
  ]
}